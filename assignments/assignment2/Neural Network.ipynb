{
 "cells": [
  {
   "cell_type": "markdown",
   "metadata": {},
   "source": [
    "# Задание 2.1 - Нейронные сети\n",
    "\n",
    "В этом задании вы реализуете и натренируете настоящую нейроную сеть своими руками!\n",
    "\n",
    "В некотором смысле это будет расширением прошлого задания - нам нужно просто составить несколько линейных классификаторов вместе!\n",
    "\n",
    "<img src=\"https://i.redd.it/n9fgba8b0qr01.png\" alt=\"Stack_more_layers\" width=\"400px\"/>"
   ]
  },
  {
   "cell_type": "code",
   "execution_count": 1,
   "metadata": {},
   "outputs": [],
   "source": [
    "import numpy as np\n",
    "import matplotlib.pyplot as plt\n",
    "\n",
    "%matplotlib inline\n",
    "\n",
    "%load_ext autoreload\n",
    "%autoreload 2"
   ]
  },
  {
   "cell_type": "code",
   "execution_count": 2,
   "outputs": [],
   "source": [
    "from dataset import load_svhn, random_split_train_val\n",
    "from gradient_check import check_layer_gradient, check_layer_param_gradient, check_model_gradient\n",
    "from layers import FullyConnectedLayer, ReLULayer\n",
    "from model import TwoLayerNet\n",
    "from trainer import Trainer, Dataset\n",
    "from optim import SGD, MomentumSGD\n",
    "from metrics import multiclass_accuracy"
   ],
   "metadata": {
    "collapsed": false,
    "pycharm": {
     "name": "#%%\n"
    }
   }
  },
  {
   "cell_type": "markdown",
   "metadata": {},
   "source": [
    "# Загружаем данные\n",
    "\n",
    "И разделяем их на training и validation."
   ]
  },
  {
   "cell_type": "code",
   "execution_count": 3,
   "metadata": {},
   "outputs": [],
   "source": [
    "def prepare_for_neural_network(train_X, test_X):\n",
    "    train_flat = train_X.reshape(train_X.shape[0], -1).astype(float) / 255.0\n",
    "    test_flat = test_X.reshape(test_X.shape[0], -1).astype(float) / 255.0\n",
    "    \n",
    "    # Subtract mean\n",
    "    mean_image = np.mean(train_flat, axis = 0)\n",
    "    train_flat -= mean_image\n",
    "    test_flat -= mean_image\n",
    "    \n",
    "    return train_flat, test_flat\n",
    "    \n",
    "train_X, train_y, test_X, test_y = load_svhn(\"data\", max_train=10000, max_test=1000)    \n",
    "train_X, test_X = prepare_for_neural_network(train_X, test_X)\n",
    "# Split train into train and val\n",
    "train_X, train_y, val_X, val_y = random_split_train_val(train_X, train_y, num_val = 1000)"
   ]
  },
  {
   "cell_type": "markdown",
   "metadata": {},
   "source": [
    "# Как всегда, начинаем с кирпичиков\n",
    "\n",
    "Мы будем реализовывать необходимые нам слои по очереди. Каждый слой должен реализовать:\n",
    "- прямой проход (forward pass), который генерирует выход слоя по входу и запоминает необходимые данные\n",
    "- обратный проход (backward pass), который получает градиент по выходу слоя и вычисляет градиент по входу и по параметрам\n",
    "\n",
    "Начнем с ReLU, у которого параметров нет."
   ]
  },
  {
   "cell_type": "code",
   "execution_count": 4,
   "metadata": {
    "scrolled": false
   },
   "outputs": [
    {
     "name": "stdout",
     "output_type": "stream",
     "text": [
      "Gradient check passed!\n"
     ]
    }
   ],
   "source": [
    "# TODO: Implement ReLULayer layer in layers.py\n",
    "# Note: you'll need to copy implementation of the gradient_check function from the previous assignment\n",
    "\n",
    "X = np.array([[1,-2,3],\n",
    "              [-1, 2, 0.1]\n",
    "              ])\n",
    "\n",
    "assert check_layer_gradient(ReLULayer(), X)"
   ]
  },
  {
   "cell_type": "markdown",
   "metadata": {},
   "source": [
    "А теперь реализуем полносвязный слой (fully connected layer), у которого будет два массива параметров: W (weights) и B (bias).\n",
    "\n",
    "Все параметры наши слои будут использовать для параметров специальный класс `Param`, в котором будут храниться значения параметров и градиенты этих параметров, вычисляемые во время обратного прохода.\n",
    "\n",
    "Это даст возможность аккумулировать (суммировать) градиенты из разных частей функции потерь, например, из cross-entropy loss и regularization loss."
   ]
  },
  {
   "cell_type": "code",
   "execution_count": 5,
   "metadata": {},
   "outputs": [
    {
     "name": "stdout",
     "output_type": "stream",
     "text": [
      "Gradient check passed!\n",
      "Gradient check passed!\n",
      "Gradient check passed!\n"
     ]
    }
   ],
   "source": [
    "# TODO: Implement FullyConnected layer forward and backward methods\n",
    "assert check_layer_gradient(FullyConnectedLayer(3, 4), X)\n",
    "# TODO: Implement storing gradients for W and B\n",
    "assert check_layer_param_gradient(FullyConnectedLayer(3, 4), X, 'W')\n",
    "assert check_layer_param_gradient(FullyConnectedLayer(3, 4), X, 'B')"
   ]
  },
  {
   "cell_type": "markdown",
   "metadata": {},
   "source": [
    "## Создаем нейронную сеть\n",
    "\n",
    "Теперь мы реализуем простейшую нейронную сеть с двумя полносвязным слоями и нелинейностью ReLU. Реализуйте функцию `compute_loss_and_gradients`, она должна запустить прямой и обратный проход через оба слоя для вычисления градиентов.\n",
    "\n",
    "Не забудьте реализовать очистку градиентов в начале функции."
   ]
  },
  {
   "cell_type": "code",
   "execution_count": 6,
   "metadata": {},
   "outputs": [
    {
     "name": "stdout",
     "output_type": "stream",
     "text": [
      "Checking gradient for FullyConnectedLayer_0_W\n",
      "Gradient check passed!\n",
      "Checking gradient for FullyConnectedLayer_0_B\n",
      "Gradient check passed!\n",
      "Checking gradient for FullyConnectedLayer_2_W\n",
      "Gradient check passed!\n",
      "Checking gradient for FullyConnectedLayer_2_B\n",
      "Gradient check passed!\n"
     ]
    },
    {
     "data": {
      "text/plain": "True"
     },
     "execution_count": 6,
     "metadata": {},
     "output_type": "execute_result"
    }
   ],
   "source": [
    "# TODO: In model.py, implement compute_loss_and_gradients function\n",
    "model = TwoLayerNet(n_input = train_X.shape[1], n_output = 10, hidden_layer_size = 3, reg = 0)\n",
    "loss = model.compute_loss_and_gradients(train_X[:2], train_y[:2])\n",
    "\n",
    "# TODO Now implement backward pass and aggregate all of the params\n",
    "check_model_gradient(model, train_X[:2], train_y[:2])"
   ]
  },
  {
   "cell_type": "markdown",
   "metadata": {},
   "source": [
    "Теперь добавьте к модели регуляризацию - она должна прибавляться к loss и делать свой вклад в градиенты."
   ]
  },
  {
   "cell_type": "code",
   "execution_count": 7,
   "metadata": {},
   "outputs": [
    {
     "name": "stdout",
     "output_type": "stream",
     "text": [
      "Checking gradient for FullyConnectedLayer_0_W\n",
      "Gradient check passed!\n",
      "Checking gradient for FullyConnectedLayer_0_B\n",
      "Gradient check passed!\n",
      "Checking gradient for FullyConnectedLayer_2_W\n",
      "Gradient check passed!\n",
      "Checking gradient for FullyConnectedLayer_2_B\n",
      "Gradient check passed!\n"
     ]
    },
    {
     "data": {
      "text/plain": "True"
     },
     "execution_count": 7,
     "metadata": {},
     "output_type": "execute_result"
    }
   ],
   "source": [
    "# TODO Now implement l2 regularization in the forward and backward pass\n",
    "model_with_reg = TwoLayerNet(n_input = train_X.shape[1], n_output = 10, hidden_layer_size = 3, reg = 1e1)\n",
    "loss_with_reg = model_with_reg.compute_loss_and_gradients(train_X[:2], train_y[:2])\n",
    "assert loss_with_reg > loss and not np.isclose(loss_with_reg, loss), \\\n",
    "    \"Loss with regularization (%2.4f) should be higher than without it (%2.4f)!\" % (loss, loss_with_reg)\n",
    "\n",
    "check_model_gradient(model_with_reg, train_X[:2], train_y[:2])"
   ]
  },
  {
   "cell_type": "markdown",
   "metadata": {},
   "source": [
    "Также реализуем функцию предсказания (вычисления значения) модели на новых данных.\n",
    "\n",
    "Какое значение точности мы ожидаем увидеть до начала тренировки?"
   ]
  },
  {
   "cell_type": "code",
   "execution_count": 8,
   "outputs": [
    {
     "data": {
      "text/plain": "0.15"
     },
     "execution_count": 8,
     "metadata": {},
     "output_type": "execute_result"
    }
   ],
   "source": [
    "# Finally, implement predict function!\n",
    "\n",
    "# TODO: Implement predict function\n",
    "# What would be the value we expect?\n",
    "samples = 900\n",
    "multiclass_accuracy(model_with_reg.predict(train_X[:samples]), train_y[:samples])"
   ],
   "metadata": {
    "collapsed": false,
    "pycharm": {
     "name": "#%%\n"
    }
   }
  },
  {
   "cell_type": "code",
   "execution_count": 9,
   "outputs": [
    {
     "data": {
      "text/plain": "135"
     },
     "execution_count": 9,
     "metadata": {},
     "output_type": "execute_result"
    }
   ],
   "source": [
    "np.sum(train_y[:samples]==2)"
   ],
   "metadata": {
    "collapsed": false,
    "pycharm": {
     "name": "#%%\n"
    }
   }
  },
  {
   "cell_type": "markdown",
   "metadata": {},
   "source": [
    "# Допишем код для процесса тренировки\n",
    "\n",
    "Если все реализовано корректно, значение функции ошибки должно уменьшаться с каждой эпохой, пусть и медленно. Не беспокойтесь пока про validation accuracy."
   ]
  },
  {
   "cell_type": "code",
   "execution_count": 10,
   "metadata": {},
   "outputs": [
    {
     "name": "stdout",
     "output_type": "stream",
     "text": [
      "Loss: 2.302029, Train accuracy: 0.196667, val accuracy: 0.206000\n",
      "Loss: 2.301685, Train accuracy: 0.196667, val accuracy: 0.206000\n",
      "Loss: 2.301851, Train accuracy: 0.148222, val accuracy: 0.140000\n",
      "Loss: 2.302623, Train accuracy: 0.196667, val accuracy: 0.206000\n",
      "Loss: 2.302031, Train accuracy: 0.196667, val accuracy: 0.206000\n",
      "Loss: 2.301124, Train accuracy: 0.196667, val accuracy: 0.206000\n",
      "Loss: 2.302831, Train accuracy: 0.196667, val accuracy: 0.206000\n",
      "Loss: 2.301638, Train accuracy: 0.196667, val accuracy: 0.206000\n",
      "Loss: 2.302170, Train accuracy: 0.196667, val accuracy: 0.206000\n",
      "Loss: 2.302117, Train accuracy: 0.196667, val accuracy: 0.206000\n",
      "Loss: 2.302455, Train accuracy: 0.196667, val accuracy: 0.206000\n",
      "Loss: 2.302807, Train accuracy: 0.196667, val accuracy: 0.206000\n",
      "Loss: 2.302832, Train accuracy: 0.196667, val accuracy: 0.206000\n",
      "Loss: 2.302390, Train accuracy: 0.196667, val accuracy: 0.206000\n",
      "Loss: 2.303278, Train accuracy: 0.196667, val accuracy: 0.206000\n",
      "Loss: 2.301772, Train accuracy: 0.196667, val accuracy: 0.206000\n",
      "Loss: 2.302333, Train accuracy: 0.196667, val accuracy: 0.206000\n",
      "Loss: 2.302433, Train accuracy: 0.148222, val accuracy: 0.140000\n",
      "Loss: 2.301941, Train accuracy: 0.196667, val accuracy: 0.206000\n",
      "Loss: 2.302173, Train accuracy: 0.196667, val accuracy: 0.206000\n"
     ]
    }
   ],
   "source": [
    "model = TwoLayerNet(n_input = train_X.shape[1], n_output = 10, hidden_layer_size = 100, reg = 1e1)\n",
    "dataset = Dataset(train_X, train_y, val_X, val_y)\n",
    "trainer = Trainer(model, dataset, SGD(), learning_rate = 1e-2)\n",
    "\n",
    "# TODO Implement missing pieces in Trainer.fit function\n",
    "# You should expect loss to go down every epoch, even if it's slow\n",
    "loss_history, train_history, val_history = trainer.fit()"
   ]
  },
  {
   "cell_type": "code",
   "execution_count": 11,
   "metadata": {},
   "outputs": [
    {
     "data": {
      "text/plain": "[<matplotlib.lines.Line2D at 0x7fa56aadf880>]"
     },
     "execution_count": 11,
     "metadata": {},
     "output_type": "execute_result"
    },
    {
     "data": {
      "text/plain": "<Figure size 432x288 with 1 Axes>",
      "image/png": "[encoded data removed]"
     },
     "metadata": {
      "needs_background": "light"
     },
     "output_type": "display_data"
    }
   ],
   "source": [
    "plt.plot(train_history)\n",
    "plt.plot(val_history)"
   ]
  },
  {
   "cell_type": "markdown",
   "metadata": {},
   "source": [
    "# Улучшаем процесс тренировки\n",
    "\n",
    "Мы реализуем несколько ключевых оптимизаций, необходимых для тренировки современных нейросетей."
   ]
  },
  {
   "cell_type": "markdown",
   "metadata": {},
   "source": [
    "## Уменьшение скорости обучения (learning rate decay)\n",
    "\n",
    "Одна из необходимых оптимизаций во время тренировки нейронных сетей - постепенное уменьшение скорости обучения по мере тренировки.\n",
    "\n",
    "Один из стандартных методов - уменьшение скорости обучения (learning rate) каждые N эпох на коэффициент d (часто называемый decay). Значения N и d, как всегда, являются гиперпараметрами и должны подбираться на основе эффективности на проверочных данных (validation data). \n",
    "\n",
    "В нашем случае N будет равным 1."
   ]
  },
  {
   "cell_type": "code",
   "execution_count": 12,
   "metadata": {},
   "outputs": [
    {
     "name": "stdout",
     "output_type": "stream",
     "text": [
      "Loss: 2.275985, Train accuracy: 0.196667, val accuracy: 0.206000\n",
      "Loss: 2.347515, Train accuracy: 0.196667, val accuracy: 0.206000\n",
      "Loss: 2.264348, Train accuracy: 0.196667, val accuracy: 0.206000\n",
      "Loss: 2.287890, Train accuracy: 0.196667, val accuracy: 0.206000\n",
      "Loss: 2.253264, Train accuracy: 0.196667, val accuracy: 0.206000\n",
      "Loss: 2.265011, Train accuracy: 0.196667, val accuracy: 0.206000\n",
      "Loss: 2.212698, Train accuracy: 0.196667, val accuracy: 0.206000\n",
      "Loss: 2.320777, Train accuracy: 0.196667, val accuracy: 0.206000\n",
      "Loss: 2.302624, Train accuracy: 0.196667, val accuracy: 0.206000\n",
      "Loss: 2.311032, Train accuracy: 0.196667, val accuracy: 0.206000\n",
      "Loss: 2.234316, Train accuracy: 0.196667, val accuracy: 0.206000\n",
      "Loss: 2.283390, Train accuracy: 0.196667, val accuracy: 0.206000\n",
      "Loss: 2.353994, Train accuracy: 0.196667, val accuracy: 0.206000\n",
      "Loss: 2.217454, Train accuracy: 0.196667, val accuracy: 0.206000\n",
      "Loss: 2.378711, Train accuracy: 0.196667, val accuracy: 0.206000\n",
      "Loss: 2.256101, Train accuracy: 0.196667, val accuracy: 0.206000\n",
      "Loss: 2.309860, Train accuracy: 0.196667, val accuracy: 0.206000\n",
      "Loss: 2.264767, Train accuracy: 0.196667, val accuracy: 0.206000\n",
      "Loss: 2.276485, Train accuracy: 0.196667, val accuracy: 0.206000\n",
      "Loss: 2.274562, Train accuracy: 0.196667, val accuracy: 0.206000\n"
     ]
    }
   ],
   "source": [
    "# TODO Implement learning rate decay inside Trainer.fit method\n",
    "# Decay should happen once per epoch\n",
    "\n",
    "model = TwoLayerNet(n_input = train_X.shape[1], n_output = 10, hidden_layer_size = 100, reg = 1e-1)\n",
    "dataset = Dataset(train_X, train_y, val_X, val_y)\n",
    "trainer = Trainer(model, dataset, SGD(), learning_rate_decay=0.99)\n",
    "\n",
    "initial_learning_rate = trainer.learning_rate\n",
    "loss_history, train_history, val_history = trainer.fit()\n",
    "\n",
    "assert trainer.learning_rate < initial_learning_rate, \"Learning rate should've been reduced\"\n",
    "assert trainer.learning_rate > 0.5*initial_learning_rate, \"Learning rate shouldn'tve been reduced that much!\""
   ]
  },
  {
   "cell_type": "markdown",
   "metadata": {},
   "source": [
    "# Накопление импульса (Momentum SGD)\n",
    "\n",
    "Другой большой класс оптимизаций - использование более эффективных методов градиентного спуска. Мы реализуем один из них - накопление импульса (Momentum SGD).\n",
    "\n",
    "Этот метод хранит скорость движения, использует градиент для ее изменения на каждом шаге, и изменяет веса пропорционально значению скорости.\n",
    "(Физическая аналогия: Вместо скорости градиенты теперь будут задавать ускорение, но будет присутствовать сила трения.)\n",
    "\n",
    "```\n",
    "velocity = momentum * velocity - learning_rate * gradient \n",
    "w = w + velocity\n",
    "```\n",
    "\n",
    "`momentum` здесь коэффициент затухания, который тоже является гиперпараметром (к счастью, для него часто есть хорошее значение по умолчанию, типичный диапазон -- 0.8-0.99).\n",
    "\n",
    "Несколько полезных ссылок, где метод разбирается более подробно:  \n",
    "http://cs231n.github.io/neural-networks-3/#sgd  \n",
    "https://distill.pub/2017/momentum/"
   ]
  },
  {
   "cell_type": "code",
   "execution_count": 13,
   "metadata": {},
   "outputs": [
    {
     "name": "stdout",
     "output_type": "stream",
     "text": [
      "Loss: 2.322051, Train accuracy: 0.196667, val accuracy: 0.206000\n",
      "Loss: 2.308033, Train accuracy: 0.196667, val accuracy: 0.206000\n",
      "Loss: 2.317549, Train accuracy: 0.196667, val accuracy: 0.206000\n",
      "Loss: 2.262630, Train accuracy: 0.196667, val accuracy: 0.206000\n",
      "Loss: 2.270323, Train accuracy: 0.196667, val accuracy: 0.206000\n",
      "Loss: 2.308261, Train accuracy: 0.196667, val accuracy: 0.206000\n",
      "Loss: 2.264990, Train accuracy: 0.196667, val accuracy: 0.206000\n",
      "Loss: 2.278636, Train accuracy: 0.196667, val accuracy: 0.206000\n",
      "Loss: 2.267083, Train accuracy: 0.196667, val accuracy: 0.206000\n",
      "Loss: 2.279901, Train accuracy: 0.196667, val accuracy: 0.206000\n",
      "Loss: 2.276510, Train accuracy: 0.196667, val accuracy: 0.206000\n",
      "Loss: 2.314133, Train accuracy: 0.196667, val accuracy: 0.206000\n",
      "Loss: 2.256404, Train accuracy: 0.196667, val accuracy: 0.206000\n",
      "Loss: 2.295822, Train accuracy: 0.196667, val accuracy: 0.206000\n",
      "Loss: 2.290051, Train accuracy: 0.196667, val accuracy: 0.206000\n",
      "Loss: 2.278750, Train accuracy: 0.196667, val accuracy: 0.206000\n",
      "Loss: 2.280567, Train accuracy: 0.196667, val accuracy: 0.206000\n",
      "Loss: 2.255044, Train accuracy: 0.196667, val accuracy: 0.206000\n",
      "Loss: 2.240982, Train accuracy: 0.196667, val accuracy: 0.206000\n",
      "Loss: 2.315651, Train accuracy: 0.196667, val accuracy: 0.206000\n"
     ]
    }
   ],
   "source": [
    "# TODO: Implement MomentumSGD.update function in optim.py\n",
    "\n",
    "model = TwoLayerNet(n_input = train_X.shape[1], n_output = 10, hidden_layer_size = 100, reg = 1e-1)\n",
    "dataset = Dataset(train_X, train_y, val_X, val_y)\n",
    "trainer = Trainer(model, dataset, MomentumSGD(), learning_rate=1e-4, learning_rate_decay=0.99)\n",
    "\n",
    "# You should see even better results than before!\n",
    "loss_history, train_history, val_history = trainer.fit()"
   ]
  },
  {
   "cell_type": "markdown",
   "metadata": {},
   "source": [
    "# Ну что, давайте уже тренировать сеть!"
   ]
  },
  {
   "cell_type": "markdown",
   "metadata": {},
   "source": [
    "## Последний тест - переобучимся (overfit) на маленьком наборе данных\n",
    "\n",
    "Хороший способ проверить, все ли реализовано корректно - переобучить сеть на маленьком наборе данных.  \n",
    "Наша модель обладает достаточной мощностью, чтобы приблизить маленький набор данных идеально, поэтому мы ожидаем, что на нем мы быстро дойдем до 100% точности на тренировочном наборе. \n",
    "\n",
    "Если этого не происходит, то где-то была допущена ошибка!"
   ]
  },
  {
   "cell_type": "code",
   "execution_count": 14,
   "metadata": {},
   "outputs": [
    {
     "name": "stdout",
     "output_type": "stream",
     "text": [
      "Loss: 2.351801, Train accuracy: 0.200000, val accuracy: 0.133333\n",
      "Loss: 2.319693, Train accuracy: 0.200000, val accuracy: 0.133333\n",
      "Loss: 2.295926, Train accuracy: 0.200000, val accuracy: 0.133333\n",
      "Loss: 2.345443, Train accuracy: 0.200000, val accuracy: 0.133333\n",
      "Loss: 2.310013, Train accuracy: 0.200000, val accuracy: 0.133333\n",
      "Loss: 2.326544, Train accuracy: 0.200000, val accuracy: 0.133333\n",
      "Loss: 2.255641, Train accuracy: 0.200000, val accuracy: 0.133333\n",
      "Loss: 2.199259, Train accuracy: 0.200000, val accuracy: 0.066667\n",
      "Loss: 2.164561, Train accuracy: 0.333333, val accuracy: 0.066667\n",
      "Loss: 2.025661, Train accuracy: 0.400000, val accuracy: 0.000000\n",
      "Loss: 1.883798, Train accuracy: 0.400000, val accuracy: 0.000000\n",
      "Loss: 2.263931, Train accuracy: 0.400000, val accuracy: 0.000000\n",
      "Loss: 1.662918, Train accuracy: 0.333333, val accuracy: 0.000000\n",
      "Loss: 2.245522, Train accuracy: 0.333333, val accuracy: 0.000000\n",
      "Loss: 1.943906, Train accuracy: 0.400000, val accuracy: 0.000000\n",
      "Loss: 1.663953, Train accuracy: 0.333333, val accuracy: 0.000000\n",
      "Loss: 2.042200, Train accuracy: 0.400000, val accuracy: 0.000000\n",
      "Loss: 1.418303, Train accuracy: 0.400000, val accuracy: 0.000000\n",
      "Loss: 1.519709, Train accuracy: 0.400000, val accuracy: 0.000000\n",
      "Loss: 1.823944, Train accuracy: 0.466667, val accuracy: 0.000000\n",
      "Loss: 2.022291, Train accuracy: 0.400000, val accuracy: 0.000000\n",
      "Loss: 1.585656, Train accuracy: 0.400000, val accuracy: 0.000000\n",
      "Loss: 1.937038, Train accuracy: 0.400000, val accuracy: 0.066667\n",
      "Loss: 1.908215, Train accuracy: 0.466667, val accuracy: 0.000000\n",
      "Loss: 1.233499, Train accuracy: 0.466667, val accuracy: 0.000000\n",
      "Loss: 2.095108, Train accuracy: 0.466667, val accuracy: 0.000000\n",
      "Loss: 1.718242, Train accuracy: 0.466667, val accuracy: 0.066667\n",
      "Loss: 2.162756, Train accuracy: 0.466667, val accuracy: 0.066667\n",
      "Loss: 2.015933, Train accuracy: 0.466667, val accuracy: 0.000000\n",
      "Loss: 1.363952, Train accuracy: 0.466667, val accuracy: 0.000000\n",
      "Loss: 1.842670, Train accuracy: 0.533333, val accuracy: 0.000000\n",
      "Loss: 1.657567, Train accuracy: 0.533333, val accuracy: 0.066667\n",
      "Loss: 1.388463, Train accuracy: 0.533333, val accuracy: 0.066667\n",
      "Loss: 1.911120, Train accuracy: 0.533333, val accuracy: 0.066667\n",
      "Loss: 1.693765, Train accuracy: 0.600000, val accuracy: 0.000000\n",
      "Loss: 2.010436, Train accuracy: 0.600000, val accuracy: 0.066667\n",
      "Loss: 1.115900, Train accuracy: 0.600000, val accuracy: 0.066667\n",
      "Loss: 1.613706, Train accuracy: 0.600000, val accuracy: 0.066667\n",
      "Loss: 1.738574, Train accuracy: 0.600000, val accuracy: 0.066667\n",
      "Loss: 1.885192, Train accuracy: 0.600000, val accuracy: 0.066667\n",
      "Loss: 2.474042, Train accuracy: 0.666667, val accuracy: 0.066667\n",
      "Loss: 1.119274, Train accuracy: 0.666667, val accuracy: 0.066667\n",
      "Loss: 1.672047, Train accuracy: 0.666667, val accuracy: 0.066667\n",
      "Loss: 1.767860, Train accuracy: 0.666667, val accuracy: 0.066667\n",
      "Loss: 1.478802, Train accuracy: 0.666667, val accuracy: 0.066667\n",
      "Loss: 1.926619, Train accuracy: 0.733333, val accuracy: 0.066667\n",
      "Loss: 1.337383, Train accuracy: 0.733333, val accuracy: 0.066667\n",
      "Loss: 1.683186, Train accuracy: 0.733333, val accuracy: 0.066667\n",
      "Loss: 1.660081, Train accuracy: 0.800000, val accuracy: 0.066667\n",
      "Loss: 1.401881, Train accuracy: 0.733333, val accuracy: 0.133333\n",
      "Loss: 1.635264, Train accuracy: 0.733333, val accuracy: 0.000000\n",
      "Loss: 1.635617, Train accuracy: 0.733333, val accuracy: 0.066667\n",
      "Loss: 1.622938, Train accuracy: 0.733333, val accuracy: 0.066667\n",
      "Loss: 1.854111, Train accuracy: 0.733333, val accuracy: 0.066667\n",
      "Loss: 1.556636, Train accuracy: 0.733333, val accuracy: 0.066667\n",
      "Loss: 1.634732, Train accuracy: 0.733333, val accuracy: 0.066667\n",
      "Loss: 1.076198, Train accuracy: 0.666667, val accuracy: 0.000000\n",
      "Loss: 1.007559, Train accuracy: 0.733333, val accuracy: 0.066667\n",
      "Loss: 1.531114, Train accuracy: 0.733333, val accuracy: 0.066667\n",
      "Loss: 1.041336, Train accuracy: 0.733333, val accuracy: 0.066667\n",
      "Loss: 2.022564, Train accuracy: 0.733333, val accuracy: 0.066667\n",
      "Loss: 1.647379, Train accuracy: 0.733333, val accuracy: 0.066667\n",
      "Loss: 1.369538, Train accuracy: 0.733333, val accuracy: 0.066667\n",
      "Loss: 1.379903, Train accuracy: 0.733333, val accuracy: 0.066667\n",
      "Loss: 1.986917, Train accuracy: 0.733333, val accuracy: 0.066667\n",
      "Loss: 1.318972, Train accuracy: 0.733333, val accuracy: 0.066667\n",
      "Loss: 1.283966, Train accuracy: 0.733333, val accuracy: 0.000000\n",
      "Loss: 0.936269, Train accuracy: 0.733333, val accuracy: 0.066667\n",
      "Loss: 1.196061, Train accuracy: 0.733333, val accuracy: 0.066667\n",
      "Loss: 1.739352, Train accuracy: 0.733333, val accuracy: 0.066667\n",
      "Loss: 1.634901, Train accuracy: 0.733333, val accuracy: 0.066667\n",
      "Loss: 1.201189, Train accuracy: 0.733333, val accuracy: 0.000000\n",
      "Loss: 1.582981, Train accuracy: 0.733333, val accuracy: 0.066667\n",
      "Loss: 1.742143, Train accuracy: 0.733333, val accuracy: 0.066667\n",
      "Loss: 1.293135, Train accuracy: 0.733333, val accuracy: 0.066667\n",
      "Loss: 1.748190, Train accuracy: 0.800000, val accuracy: 0.066667\n",
      "Loss: 1.976545, Train accuracy: 0.800000, val accuracy: 0.000000\n",
      "Loss: 1.357876, Train accuracy: 0.800000, val accuracy: 0.066667\n",
      "Loss: 0.992895, Train accuracy: 0.800000, val accuracy: 0.066667\n",
      "Loss: 1.602046, Train accuracy: 0.800000, val accuracy: 0.066667\n",
      "Loss: 1.602167, Train accuracy: 0.866667, val accuracy: 0.066667\n",
      "Loss: 1.173057, Train accuracy: 0.866667, val accuracy: 0.066667\n",
      "Loss: 1.312798, Train accuracy: 0.866667, val accuracy: 0.000000\n",
      "Loss: 1.564551, Train accuracy: 0.866667, val accuracy: 0.000000\n",
      "Loss: 0.961713, Train accuracy: 0.866667, val accuracy: 0.066667\n",
      "Loss: 1.274091, Train accuracy: 0.866667, val accuracy: 0.066667\n",
      "Loss: 1.304703, Train accuracy: 0.933333, val accuracy: 0.066667\n",
      "Loss: 0.958926, Train accuracy: 0.933333, val accuracy: 0.066667\n",
      "Loss: 1.377168, Train accuracy: 0.866667, val accuracy: 0.066667\n",
      "Loss: 1.657193, Train accuracy: 0.933333, val accuracy: 0.066667\n",
      "Loss: 1.389767, Train accuracy: 0.933333, val accuracy: 0.066667\n",
      "Loss: 1.576803, Train accuracy: 0.933333, val accuracy: 0.066667\n",
      "Loss: 1.556738, Train accuracy: 0.933333, val accuracy: 0.066667\n",
      "Loss: 1.175409, Train accuracy: 0.933333, val accuracy: 0.000000\n",
      "Loss: 1.322616, Train accuracy: 0.933333, val accuracy: 0.066667\n",
      "Loss: 1.251510, Train accuracy: 0.933333, val accuracy: 0.066667\n",
      "Loss: 1.060407, Train accuracy: 0.933333, val accuracy: 0.066667\n",
      "Loss: 1.661861, Train accuracy: 0.933333, val accuracy: 0.066667\n",
      "Loss: 1.227308, Train accuracy: 0.933333, val accuracy: 0.066667\n",
      "Loss: 1.597969, Train accuracy: 0.933333, val accuracy: 0.066667\n",
      "Loss: 1.887250, Train accuracy: 0.933333, val accuracy: 0.066667\n",
      "Loss: 1.338688, Train accuracy: 0.933333, val accuracy: 0.066667\n",
      "Loss: 1.842966, Train accuracy: 0.933333, val accuracy: 0.066667\n",
      "Loss: 1.160604, Train accuracy: 0.933333, val accuracy: 0.066667\n",
      "Loss: 1.347215, Train accuracy: 0.933333, val accuracy: 0.066667\n",
      "Loss: 1.223119, Train accuracy: 0.933333, val accuracy: 0.066667\n",
      "Loss: 1.436648, Train accuracy: 0.933333, val accuracy: 0.000000\n",
      "Loss: 1.535320, Train accuracy: 0.933333, val accuracy: 0.066667\n",
      "Loss: 1.249121, Train accuracy: 0.933333, val accuracy: 0.066667\n",
      "Loss: 1.248964, Train accuracy: 0.933333, val accuracy: 0.000000\n",
      "Loss: 1.549803, Train accuracy: 1.000000, val accuracy: 0.066667\n",
      "Loss: 1.259687, Train accuracy: 0.933333, val accuracy: 0.000000\n",
      "Loss: 1.097239, Train accuracy: 1.000000, val accuracy: 0.000000\n",
      "Loss: 1.324286, Train accuracy: 0.933333, val accuracy: 0.000000\n",
      "Loss: 1.315431, Train accuracy: 0.933333, val accuracy: 0.000000\n",
      "Loss: 1.420746, Train accuracy: 1.000000, val accuracy: 0.000000\n",
      "Loss: 1.443017, Train accuracy: 0.933333, val accuracy: 0.000000\n",
      "Loss: 1.301618, Train accuracy: 1.000000, val accuracy: 0.000000\n",
      "Loss: 1.533658, Train accuracy: 1.000000, val accuracy: 0.000000\n",
      "Loss: 1.607993, Train accuracy: 1.000000, val accuracy: 0.000000\n",
      "Loss: 1.239065, Train accuracy: 0.933333, val accuracy: 0.000000\n",
      "Loss: 1.649177, Train accuracy: 1.000000, val accuracy: 0.000000\n",
      "Loss: 1.174445, Train accuracy: 1.000000, val accuracy: 0.000000\n",
      "Loss: 1.602848, Train accuracy: 1.000000, val accuracy: 0.000000\n",
      "Loss: 1.363682, Train accuracy: 1.000000, val accuracy: 0.000000\n",
      "Loss: 1.160640, Train accuracy: 1.000000, val accuracy: 0.000000\n",
      "Loss: 1.197888, Train accuracy: 1.000000, val accuracy: 0.000000\n",
      "Loss: 1.126413, Train accuracy: 1.000000, val accuracy: 0.000000\n",
      "Loss: 1.008120, Train accuracy: 1.000000, val accuracy: 0.000000\n",
      "Loss: 1.643235, Train accuracy: 1.000000, val accuracy: 0.000000\n",
      "Loss: 1.592807, Train accuracy: 1.000000, val accuracy: 0.000000\n",
      "Loss: 1.412599, Train accuracy: 1.000000, val accuracy: 0.000000\n",
      "Loss: 1.212850, Train accuracy: 1.000000, val accuracy: 0.000000\n",
      "Loss: 1.196541, Train accuracy: 0.933333, val accuracy: 0.000000\n",
      "Loss: 1.280346, Train accuracy: 1.000000, val accuracy: 0.000000\n",
      "Loss: 1.403204, Train accuracy: 1.000000, val accuracy: 0.000000\n",
      "Loss: 1.229377, Train accuracy: 1.000000, val accuracy: 0.000000\n",
      "Loss: 1.400568, Train accuracy: 1.000000, val accuracy: 0.000000\n",
      "Loss: 1.391042, Train accuracy: 1.000000, val accuracy: 0.000000\n",
      "Loss: 1.102808, Train accuracy: 1.000000, val accuracy: 0.000000\n",
      "Loss: 1.445285, Train accuracy: 1.000000, val accuracy: 0.000000\n",
      "Loss: 1.406323, Train accuracy: 1.000000, val accuracy: 0.000000\n",
      "Loss: 1.219193, Train accuracy: 1.000000, val accuracy: 0.000000\n",
      "Loss: 1.449330, Train accuracy: 1.000000, val accuracy: 0.000000\n",
      "Loss: 1.304464, Train accuracy: 1.000000, val accuracy: 0.000000\n",
      "Loss: 1.494726, Train accuracy: 1.000000, val accuracy: 0.000000\n",
      "Loss: 1.327706, Train accuracy: 1.000000, val accuracy: 0.000000\n",
      "Loss: 1.361608, Train accuracy: 1.000000, val accuracy: 0.000000\n",
      "Loss: 1.460816, Train accuracy: 1.000000, val accuracy: 0.000000\n",
      "Loss: 1.424061, Train accuracy: 1.000000, val accuracy: 0.000000\n"
     ]
    }
   ],
   "source": [
    "data_size = 15\n",
    "model = TwoLayerNet(n_input = train_X.shape[1], n_output = 10, hidden_layer_size = 100, reg = 1e-1)\n",
    "dataset = Dataset(train_X[:data_size], train_y[:data_size], val_X[:data_size], val_y[:data_size])\n",
    "trainer = Trainer(model, dataset, SGD(), learning_rate=1e-1, num_epochs=150, batch_size=5)\n",
    "\n",
    "# You should expect this to reach 1.0 training accuracy \n",
    "loss_history, train_history, val_history = trainer.fit()"
   ]
  },
  {
   "cell_type": "markdown",
   "metadata": {},
   "source": [
    "Теперь найдем гипепараметры, для которых этот процесс сходится быстрее.\n",
    "Если все реализовано корректно, то существуют параметры, при которых процесс сходится в **20** эпох или еще быстрее.\n",
    "Найдите их!"
   ]
  },
  {
   "cell_type": "code",
   "execution_count": 114,
   "outputs": [
    {
     "name": "stdout",
     "output_type": "stream",
     "text": [
      "Loss: 2.315602, Train accuracy: 0.200000, val accuracy: 0.133333\n",
      "Loss: 2.260196, Train accuracy: 0.266667, val accuracy: 0.000000\n",
      "Loss: 2.253574, Train accuracy: 0.400000, val accuracy: 0.000000\n",
      "Loss: 2.079124, Train accuracy: 0.266667, val accuracy: 0.000000\n",
      "Loss: 1.764302, Train accuracy: 0.400000, val accuracy: 0.000000\n",
      "Loss: 2.176783, Train accuracy: 0.466667, val accuracy: 0.000000\n",
      "Loss: 1.599997, Train accuracy: 0.266667, val accuracy: 0.066667\n",
      "Loss: 2.054212, Train accuracy: 0.466667, val accuracy: 0.000000\n",
      "Loss: 1.029767, Train accuracy: 0.466667, val accuracy: 0.000000\n",
      "Loss: 1.632275, Train accuracy: 0.600000, val accuracy: 0.066667\n",
      "Loss: 0.632832, Train accuracy: 0.600000, val accuracy: 0.066667\n",
      "Loss: 1.091659, Train accuracy: 0.733333, val accuracy: 0.066667\n",
      "Loss: 1.121665, Train accuracy: 0.733333, val accuracy: 0.000000\n",
      "Loss: 0.800057, Train accuracy: 0.866667, val accuracy: 0.000000\n",
      "Loss: 0.768538, Train accuracy: 1.000000, val accuracy: 0.066667\n",
      "Loss: 0.495810, Train accuracy: 1.000000, val accuracy: 0.000000\n",
      "Loss: 0.470446, Train accuracy: 1.000000, val accuracy: 0.000000\n",
      "Loss: 0.343351, Train accuracy: 1.000000, val accuracy: 0.000000\n",
      "Loss: 0.394819, Train accuracy: 1.000000, val accuracy: 0.000000\n",
      "Loss: 0.282542, Train accuracy: 1.000000, val accuracy: 0.000000\n"
     ]
    }
   ],
   "source": [
    "# Now, tweak some hyper parameters and make it train to 1.0 accuracy in 20 epochs or less\n",
    "\n",
    "model = TwoLayerNet(n_input = train_X.shape[1], n_output = 10, hidden_layer_size = 400, reg = 1e-2)\n",
    "dataset = Dataset(train_X[:data_size], train_y[:data_size], val_X[:data_size], val_y[:data_size])\n",
    "# TODO: Change any hyperparamers or optimizators to reach training accuracy in 20 epochs\n",
    "trainer = Trainer(model, dataset, SGD(), learning_rate=3e-1, num_epochs=20, batch_size=5)\n",
    "\n",
    "loss_history, train_history, val_history = trainer.fit()"
   ],
   "metadata": {
    "collapsed": false,
    "pycharm": {
     "name": "#%%\n"
    }
   }
  },
  {
   "cell_type": "markdown",
   "metadata": {},
   "source": [
    "# Итак, основное мероприятие!\n",
    "\n",
    "Натренируйте лучшую нейросеть! Можно добавлять и изменять параметры, менять количество нейронов в слоях сети и как угодно экспериментировать. \n",
    "\n",
    "Добейтесь точности лучше **60%** на validation set."
   ]
  },
  {
   "cell_type": "code",
   "execution_count": 121,
   "metadata": {
    "scrolled": true
   },
   "outputs": [
    {
     "name": "stdout",
     "output_type": "stream",
     "text": [
      "Loss: 2.246778, Train accuracy: 0.196667, val accuracy: 0.206000\n",
      "Loss: 2.243479, Train accuracy: 0.196667, val accuracy: 0.206000\n",
      "Loss: 2.140358, Train accuracy: 0.196667, val accuracy: 0.206000\n",
      "Loss: 1.990722, Train accuracy: 0.264889, val accuracy: 0.269000\n",
      "Loss: 1.980078, Train accuracy: 0.299222, val accuracy: 0.305000\n",
      "Loss: 1.794562, Train accuracy: 0.386000, val accuracy: 0.381000\n",
      "Loss: 1.633662, Train accuracy: 0.466667, val accuracy: 0.461000\n",
      "Loss: 1.471626, Train accuracy: 0.529111, val accuracy: 0.533000\n",
      "Loss: 1.142530, Train accuracy: 0.579333, val accuracy: 0.566000\n",
      "Loss: 1.513196, Train accuracy: 0.608667, val accuracy: 0.591000\n",
      "Loss: 1.201923, Train accuracy: 0.636778, val accuracy: 0.618000\n",
      "Loss: 1.256758, Train accuracy: 0.667778, val accuracy: 0.651000\n",
      "Loss: 1.228439, Train accuracy: 0.684000, val accuracy: 0.665000\n",
      "Loss: 1.254179, Train accuracy: 0.697889, val accuracy: 0.679000\n",
      "Loss: 1.185938, Train accuracy: 0.707889, val accuracy: 0.684000\n",
      "Loss: 1.263526, Train accuracy: 0.718556, val accuracy: 0.685000\n",
      "Loss: 1.423800, Train accuracy: 0.712667, val accuracy: 0.690000\n",
      "Loss: 0.852622, Train accuracy: 0.732111, val accuracy: 0.710000\n",
      "Loss: 1.127731, Train accuracy: 0.737778, val accuracy: 0.707000\n",
      "Loss: 0.873136, Train accuracy: 0.751222, val accuracy: 0.714000\n",
      "Loss: 0.873123, Train accuracy: 0.748333, val accuracy: 0.705000\n",
      "Loss: 1.225267, Train accuracy: 0.761889, val accuracy: 0.710000\n",
      "Loss: 1.101060, Train accuracy: 0.758667, val accuracy: 0.693000\n",
      "Loss: 1.389337, Train accuracy: 0.768556, val accuracy: 0.716000\n",
      "Loss: 0.929693, Train accuracy: 0.777111, val accuracy: 0.722000\n",
      "Loss: 0.923922, Train accuracy: 0.781556, val accuracy: 0.722000\n",
      "Loss: 0.867592, Train accuracy: 0.793000, val accuracy: 0.717000\n",
      "Loss: 0.999904, Train accuracy: 0.782778, val accuracy: 0.735000\n",
      "Loss: 0.851194, Train accuracy: 0.800000, val accuracy: 0.728000\n",
      "Loss: 0.505426, Train accuracy: 0.800333, val accuracy: 0.723000\n",
      "Loss: 0.728811, Train accuracy: 0.806556, val accuracy: 0.726000\n",
      "Loss: 0.761330, Train accuracy: 0.814111, val accuracy: 0.734000\n",
      "Loss: 0.870261, Train accuracy: 0.819111, val accuracy: 0.740000\n",
      "Loss: 1.045845, Train accuracy: 0.820444, val accuracy: 0.735000\n",
      "Loss: 0.763823, Train accuracy: 0.817222, val accuracy: 0.740000\n",
      "Loss: 1.084919, Train accuracy: 0.831111, val accuracy: 0.736000\n",
      "Loss: 0.670800, Train accuracy: 0.831333, val accuracy: 0.746000\n",
      "Loss: 0.916688, Train accuracy: 0.821000, val accuracy: 0.751000\n",
      "Loss: 0.759977, Train accuracy: 0.834111, val accuracy: 0.748000\n",
      "Loss: 0.942579, Train accuracy: 0.840444, val accuracy: 0.747000\n",
      "new leader with val_acc=0.747 and params: [hidden_layer_size=100 reg_strength=0.001 learning_rate=0.01]\n",
      "Loss: 2.340605, Train accuracy: 0.196667, val accuracy: 0.206000\n",
      "Loss: 2.211407, Train accuracy: 0.196667, val accuracy: 0.206000\n",
      "Loss: 2.203604, Train accuracy: 0.196667, val accuracy: 0.206000\n",
      "Loss: 1.966267, Train accuracy: 0.256222, val accuracy: 0.254000\n",
      "Loss: 2.103810, Train accuracy: 0.297778, val accuracy: 0.301000\n",
      "Loss: 1.725561, Train accuracy: 0.380222, val accuracy: 0.384000\n",
      "Loss: 1.589085, Train accuracy: 0.457111, val accuracy: 0.447000\n",
      "Loss: 1.572653, Train accuracy: 0.525556, val accuracy: 0.527000\n",
      "Loss: 1.008622, Train accuracy: 0.570889, val accuracy: 0.560000\n",
      "Loss: 1.414890, Train accuracy: 0.616111, val accuracy: 0.606000\n",
      "Loss: 1.107791, Train accuracy: 0.638556, val accuracy: 0.635000\n",
      "Loss: 1.118353, Train accuracy: 0.671556, val accuracy: 0.657000\n",
      "Loss: 1.236013, Train accuracy: 0.674222, val accuracy: 0.660000\n",
      "Loss: 1.243948, Train accuracy: 0.684000, val accuracy: 0.681000\n",
      "Loss: 1.104979, Train accuracy: 0.713889, val accuracy: 0.698000\n",
      "Loss: 1.340482, Train accuracy: 0.727778, val accuracy: 0.690000\n",
      "Loss: 0.836468, Train accuracy: 0.722889, val accuracy: 0.702000\n",
      "Loss: 0.696731, Train accuracy: 0.730333, val accuracy: 0.699000\n",
      "Loss: 1.524251, Train accuracy: 0.758222, val accuracy: 0.710000\n",
      "Loss: 0.550217, Train accuracy: 0.762111, val accuracy: 0.708000\n",
      "Loss: 0.805935, Train accuracy: 0.772111, val accuracy: 0.716000\n",
      "Loss: 0.637578, Train accuracy: 0.781556, val accuracy: 0.724000\n",
      "Loss: 0.571078, Train accuracy: 0.781556, val accuracy: 0.725000\n",
      "Loss: 0.882814, Train accuracy: 0.795444, val accuracy: 0.730000\n",
      "Loss: 0.518302, Train accuracy: 0.794556, val accuracy: 0.731000\n",
      "Loss: 0.748639, Train accuracy: 0.792889, val accuracy: 0.737000\n",
      "Loss: 1.077863, Train accuracy: 0.804111, val accuracy: 0.745000\n",
      "Loss: 0.890301, Train accuracy: 0.812889, val accuracy: 0.741000\n",
      "Loss: 0.759167, Train accuracy: 0.826778, val accuracy: 0.743000\n",
      "Loss: 0.655914, Train accuracy: 0.826111, val accuracy: 0.746000\n",
      "Loss: 0.621542, Train accuracy: 0.823778, val accuracy: 0.724000\n",
      "Loss: 0.490983, Train accuracy: 0.832222, val accuracy: 0.733000\n",
      "Loss: 0.653683, Train accuracy: 0.842333, val accuracy: 0.740000\n",
      "Loss: 0.627095, Train accuracy: 0.847000, val accuracy: 0.734000\n",
      "Loss: 0.506244, Train accuracy: 0.854222, val accuracy: 0.741000\n",
      "Loss: 0.710488, Train accuracy: 0.851778, val accuracy: 0.751000\n",
      "Loss: 0.574828, Train accuracy: 0.851111, val accuracy: 0.733000\n",
      "Loss: 0.699731, Train accuracy: 0.854111, val accuracy: 0.743000\n",
      "Loss: 0.535974, Train accuracy: 0.866556, val accuracy: 0.744000\n",
      "Loss: 0.549576, Train accuracy: 0.861667, val accuracy: 0.742000\n",
      "Loss: 2.158121, Train accuracy: 0.196667, val accuracy: 0.206000\n",
      "Loss: 2.244210, Train accuracy: 0.196667, val accuracy: 0.206000\n",
      "Loss: 2.317711, Train accuracy: 0.196667, val accuracy: 0.206000\n",
      "Loss: 2.133886, Train accuracy: 0.263778, val accuracy: 0.260000\n",
      "Loss: 1.830322, Train accuracy: 0.320889, val accuracy: 0.315000\n",
      "Loss: 1.805234, Train accuracy: 0.410111, val accuracy: 0.395000\n",
      "Loss: 1.588882, Train accuracy: 0.483222, val accuracy: 0.476000\n",
      "Loss: 1.333050, Train accuracy: 0.533889, val accuracy: 0.536000\n",
      "Loss: 1.593893, Train accuracy: 0.582444, val accuracy: 0.575000\n",
      "Loss: 1.569312, Train accuracy: 0.611111, val accuracy: 0.593000\n",
      "Loss: 0.971974, Train accuracy: 0.636667, val accuracy: 0.610000\n",
      "Loss: 1.117639, Train accuracy: 0.667556, val accuracy: 0.648000\n",
      "Loss: 1.352626, Train accuracy: 0.682444, val accuracy: 0.659000\n",
      "Loss: 1.057029, Train accuracy: 0.685889, val accuracy: 0.671000\n",
      "Loss: 0.974136, Train accuracy: 0.714889, val accuracy: 0.691000\n",
      "Loss: 1.058151, Train accuracy: 0.732667, val accuracy: 0.710000\n",
      "Loss: 1.074392, Train accuracy: 0.722778, val accuracy: 0.682000\n",
      "Loss: 0.916748, Train accuracy: 0.733778, val accuracy: 0.697000\n",
      "Loss: 1.189564, Train accuracy: 0.753556, val accuracy: 0.713000\n",
      "Loss: 0.999597, Train accuracy: 0.759444, val accuracy: 0.717000\n",
      "Loss: 0.892021, Train accuracy: 0.765000, val accuracy: 0.708000\n",
      "Loss: 0.797816, Train accuracy: 0.769667, val accuracy: 0.714000\n",
      "Loss: 0.966708, Train accuracy: 0.766667, val accuracy: 0.715000\n",
      "Loss: 0.775729, Train accuracy: 0.779444, val accuracy: 0.727000\n",
      "Loss: 0.871936, Train accuracy: 0.785222, val accuracy: 0.727000\n",
      "Loss: 0.966319, Train accuracy: 0.784111, val accuracy: 0.731000\n",
      "Loss: 0.908254, Train accuracy: 0.801778, val accuracy: 0.737000\n",
      "Loss: 0.890923, Train accuracy: 0.797778, val accuracy: 0.730000\n",
      "Loss: 0.748042, Train accuracy: 0.807222, val accuracy: 0.724000\n",
      "Loss: 1.172049, Train accuracy: 0.799556, val accuracy: 0.743000\n",
      "Loss: 1.041353, Train accuracy: 0.811667, val accuracy: 0.735000\n",
      "Loss: 1.289243, Train accuracy: 0.815222, val accuracy: 0.735000\n",
      "Loss: 0.980760, Train accuracy: 0.832000, val accuracy: 0.753000\n",
      "Loss: 0.840364, Train accuracy: 0.825333, val accuracy: 0.737000\n",
      "Loss: 0.969540, Train accuracy: 0.833000, val accuracy: 0.758000\n",
      "Loss: 0.844962, Train accuracy: 0.835556, val accuracy: 0.738000\n",
      "Loss: 0.687312, Train accuracy: 0.842111, val accuracy: 0.743000\n",
      "Loss: 1.211057, Train accuracy: 0.843000, val accuracy: 0.757000\n",
      "Loss: 0.758336, Train accuracy: 0.839000, val accuracy: 0.737000\n",
      "Loss: 0.679276, Train accuracy: 0.854111, val accuracy: 0.753000\n",
      "new leader with val_acc=0.753 and params: [hidden_layer_size=120 reg_strength=0.001 learning_rate=0.01]\n",
      "Loss: 2.209260, Train accuracy: 0.196667, val accuracy: 0.206000\n",
      "Loss: 2.138162, Train accuracy: 0.196667, val accuracy: 0.206000\n",
      "Loss: 2.151553, Train accuracy: 0.196667, val accuracy: 0.206000\n",
      "Loss: 1.972861, Train accuracy: 0.271000, val accuracy: 0.270000\n",
      "Loss: 2.104054, Train accuracy: 0.318667, val accuracy: 0.328000\n",
      "Loss: 1.659351, Train accuracy: 0.412778, val accuracy: 0.407000\n",
      "Loss: 1.472873, Train accuracy: 0.478556, val accuracy: 0.463000\n",
      "Loss: 1.265774, Train accuracy: 0.548333, val accuracy: 0.539000\n",
      "Loss: 1.335953, Train accuracy: 0.595000, val accuracy: 0.575000\n",
      "Loss: 1.120856, Train accuracy: 0.633667, val accuracy: 0.618000\n",
      "Loss: 1.075772, Train accuracy: 0.660444, val accuracy: 0.639000\n",
      "Loss: 1.071050, Train accuracy: 0.673222, val accuracy: 0.647000\n",
      "Loss: 1.377710, Train accuracy: 0.694556, val accuracy: 0.679000\n",
      "Loss: 1.106871, Train accuracy: 0.708889, val accuracy: 0.677000\n",
      "Loss: 0.967363, Train accuracy: 0.726889, val accuracy: 0.691000\n",
      "Loss: 0.751004, Train accuracy: 0.724111, val accuracy: 0.680000\n",
      "Loss: 0.864342, Train accuracy: 0.743000, val accuracy: 0.710000\n",
      "Loss: 1.062583, Train accuracy: 0.738222, val accuracy: 0.713000\n",
      "Loss: 0.796252, Train accuracy: 0.764333, val accuracy: 0.711000\n",
      "Loss: 0.770807, Train accuracy: 0.761333, val accuracy: 0.708000\n",
      "Loss: 1.077324, Train accuracy: 0.760222, val accuracy: 0.701000\n",
      "Loss: 0.665414, Train accuracy: 0.768222, val accuracy: 0.718000\n",
      "Loss: 0.906260, Train accuracy: 0.787556, val accuracy: 0.712000\n",
      "Loss: 0.601267, Train accuracy: 0.776333, val accuracy: 0.706000\n",
      "Loss: 0.620227, Train accuracy: 0.803889, val accuracy: 0.723000\n",
      "Loss: 0.861522, Train accuracy: 0.799222, val accuracy: 0.731000\n",
      "Loss: 0.627026, Train accuracy: 0.810667, val accuracy: 0.729000\n",
      "Loss: 0.872769, Train accuracy: 0.810444, val accuracy: 0.725000\n",
      "Loss: 0.555664, Train accuracy: 0.822111, val accuracy: 0.727000\n",
      "Loss: 0.652440, Train accuracy: 0.830444, val accuracy: 0.736000\n",
      "Loss: 0.776877, Train accuracy: 0.833111, val accuracy: 0.729000\n",
      "Loss: 0.616526, Train accuracy: 0.829889, val accuracy: 0.734000\n",
      "Loss: 0.692902, Train accuracy: 0.824111, val accuracy: 0.732000\n",
      "Loss: 0.462029, Train accuracy: 0.842667, val accuracy: 0.724000\n",
      "Loss: 0.696591, Train accuracy: 0.849889, val accuracy: 0.738000\n",
      "Loss: 0.378330, Train accuracy: 0.858778, val accuracy: 0.748000\n",
      "Loss: 0.646257, Train accuracy: 0.854778, val accuracy: 0.735000\n",
      "Loss: 0.563826, Train accuracy: 0.863556, val accuracy: 0.753000\n",
      "Loss: 0.633596, Train accuracy: 0.866000, val accuracy: 0.751000\n",
      "Loss: 0.461757, Train accuracy: 0.868778, val accuracy: 0.748000\n",
      "Loss: 2.122585, Train accuracy: 0.196667, val accuracy: 0.206000\n",
      "Loss: 2.202413, Train accuracy: 0.196667, val accuracy: 0.206000\n",
      "Loss: 2.117935, Train accuracy: 0.196778, val accuracy: 0.206000\n",
      "Loss: 2.058107, Train accuracy: 0.273111, val accuracy: 0.268000\n",
      "Loss: 1.777889, Train accuracy: 0.314444, val accuracy: 0.327000\n",
      "Loss: 1.552108, Train accuracy: 0.424444, val accuracy: 0.416000\n",
      "Loss: 1.624703, Train accuracy: 0.479778, val accuracy: 0.469000\n",
      "Loss: 1.513320, Train accuracy: 0.539333, val accuracy: 0.550000\n",
      "Loss: 1.147800, Train accuracy: 0.594111, val accuracy: 0.586000\n",
      "Loss: 1.210620, Train accuracy: 0.612556, val accuracy: 0.600000\n",
      "Loss: 1.289792, Train accuracy: 0.643444, val accuracy: 0.620000\n",
      "Loss: 1.183854, Train accuracy: 0.666222, val accuracy: 0.637000\n",
      "Loss: 1.379631, Train accuracy: 0.677444, val accuracy: 0.667000\n",
      "Loss: 1.223764, Train accuracy: 0.688889, val accuracy: 0.669000\n",
      "Loss: 0.817801, Train accuracy: 0.699889, val accuracy: 0.680000\n",
      "Loss: 1.168915, Train accuracy: 0.726444, val accuracy: 0.689000\n",
      "Loss: 0.959982, Train accuracy: 0.719111, val accuracy: 0.685000\n",
      "Loss: 1.159481, Train accuracy: 0.732778, val accuracy: 0.706000\n",
      "Loss: 0.949910, Train accuracy: 0.747444, val accuracy: 0.702000\n",
      "Loss: 1.249396, Train accuracy: 0.746444, val accuracy: 0.713000\n",
      "Loss: 0.937782, Train accuracy: 0.761778, val accuracy: 0.728000\n",
      "Loss: 0.965099, Train accuracy: 0.754111, val accuracy: 0.696000\n",
      "Loss: 0.698469, Train accuracy: 0.779556, val accuracy: 0.736000\n",
      "Loss: 1.356508, Train accuracy: 0.784667, val accuracy: 0.736000\n",
      "Loss: 0.693269, Train accuracy: 0.790111, val accuracy: 0.735000\n",
      "Loss: 0.886213, Train accuracy: 0.797333, val accuracy: 0.741000\n",
      "Loss: 1.002150, Train accuracy: 0.806889, val accuracy: 0.751000\n",
      "Loss: 0.794875, Train accuracy: 0.804444, val accuracy: 0.732000\n",
      "Loss: 0.718953, Train accuracy: 0.811444, val accuracy: 0.748000\n",
      "Loss: 0.735895, Train accuracy: 0.807889, val accuracy: 0.752000\n",
      "Loss: 1.058655, Train accuracy: 0.816444, val accuracy: 0.750000\n",
      "Loss: 0.847808, Train accuracy: 0.825222, val accuracy: 0.751000\n",
      "Loss: 0.940031, Train accuracy: 0.817222, val accuracy: 0.730000\n",
      "Loss: 0.826160, Train accuracy: 0.824222, val accuracy: 0.747000\n",
      "Loss: 0.718212, Train accuracy: 0.838111, val accuracy: 0.750000\n",
      "Loss: 0.994058, Train accuracy: 0.821444, val accuracy: 0.738000\n",
      "Loss: 0.943805, Train accuracy: 0.842111, val accuracy: 0.747000\n",
      "Loss: 0.636952, Train accuracy: 0.851444, val accuracy: 0.743000\n",
      "Loss: 0.717971, Train accuracy: 0.852000, val accuracy: 0.757000\n",
      "Loss: 0.617787, Train accuracy: 0.849556, val accuracy: 0.759000\n",
      "new leader with val_acc=0.759 and params: [hidden_layer_size=150 reg_strength=0.001 learning_rate=0.01]\n",
      "Loss: 2.220716, Train accuracy: 0.196667, val accuracy: 0.206000\n",
      "Loss: 2.180617, Train accuracy: 0.196667, val accuracy: 0.206000\n",
      "Loss: 2.143588, Train accuracy: 0.196667, val accuracy: 0.206000\n",
      "Loss: 2.198646, Train accuracy: 0.258889, val accuracy: 0.255000\n",
      "Loss: 1.921163, Train accuracy: 0.339222, val accuracy: 0.346000\n",
      "Loss: 1.755320, Train accuracy: 0.400111, val accuracy: 0.405000\n",
      "Loss: 1.629114, Train accuracy: 0.496778, val accuracy: 0.502000\n",
      "Loss: 1.564213, Train accuracy: 0.551333, val accuracy: 0.546000\n",
      "Loss: 1.240865, Train accuracy: 0.611889, val accuracy: 0.605000\n",
      "Loss: 1.069523, Train accuracy: 0.633889, val accuracy: 0.631000\n",
      "Loss: 1.112275, Train accuracy: 0.649556, val accuracy: 0.628000\n",
      "Loss: 1.066768, Train accuracy: 0.669000, val accuracy: 0.660000\n",
      "Loss: 1.086398, Train accuracy: 0.692556, val accuracy: 0.661000\n",
      "Loss: 0.969773, Train accuracy: 0.690111, val accuracy: 0.682000\n",
      "Loss: 0.898867, Train accuracy: 0.720889, val accuracy: 0.686000\n",
      "Loss: 0.757937, Train accuracy: 0.722556, val accuracy: 0.701000\n",
      "Loss: 0.874116, Train accuracy: 0.745556, val accuracy: 0.717000\n",
      "Loss: 0.766862, Train accuracy: 0.749111, val accuracy: 0.719000\n",
      "Loss: 0.622279, Train accuracy: 0.759444, val accuracy: 0.718000\n",
      "Loss: 0.872116, Train accuracy: 0.779778, val accuracy: 0.728000\n",
      "Loss: 0.784802, Train accuracy: 0.761222, val accuracy: 0.707000\n",
      "Loss: 0.765858, Train accuracy: 0.791333, val accuracy: 0.731000\n",
      "Loss: 0.658579, Train accuracy: 0.795889, val accuracy: 0.738000\n",
      "Loss: 0.735763, Train accuracy: 0.787000, val accuracy: 0.710000\n",
      "Loss: 0.743457, Train accuracy: 0.803444, val accuracy: 0.735000\n",
      "Loss: 0.644998, Train accuracy: 0.826333, val accuracy: 0.750000\n",
      "Loss: 0.998467, Train accuracy: 0.828333, val accuracy: 0.754000\n",
      "Loss: 0.504805, Train accuracy: 0.830889, val accuracy: 0.749000\n",
      "Loss: 0.745919, Train accuracy: 0.841667, val accuracy: 0.745000\n",
      "Loss: 0.582790, Train accuracy: 0.830333, val accuracy: 0.727000\n",
      "Loss: 0.417585, Train accuracy: 0.836778, val accuracy: 0.736000\n",
      "Loss: 0.809385, Train accuracy: 0.850444, val accuracy: 0.749000\n",
      "Loss: 0.576511, Train accuracy: 0.854444, val accuracy: 0.744000\n",
      "Loss: 0.545871, Train accuracy: 0.861889, val accuracy: 0.751000\n",
      "Loss: 0.445764, Train accuracy: 0.869889, val accuracy: 0.747000\n",
      "Loss: 0.476836, Train accuracy: 0.867444, val accuracy: 0.741000\n",
      "Loss: 0.687155, Train accuracy: 0.861667, val accuracy: 0.742000\n",
      "Loss: 0.309787, Train accuracy: 0.883222, val accuracy: 0.748000\n",
      "Loss: 0.479766, Train accuracy: 0.872778, val accuracy: 0.742000\n",
      "Loss: 0.922706, Train accuracy: 0.883333, val accuracy: 0.743000\n",
      "best validation accuracy achieved: 0.759000\n"
     ]
    }
   ],
   "source": [
    "# Let's train the best one-hidden-layer network we can\n",
    "\n",
    "learning_rates = [1e-2]\n",
    "reg_strengths = [1e-3, 1e-4]\n",
    "learning_rate_decay = 0.995\n",
    "hidden_layer_sizes = [100, 120, 150]\n",
    "num_epochs = 40\n",
    "batch_size = 64\n",
    "\n",
    "best_classifier = None\n",
    "best_val_accuracy = 0\n",
    "\n",
    "loss_history = []\n",
    "train_history = []\n",
    "val_history = []\n",
    "\n",
    "for hidden_layer_size in hidden_layer_sizes:\n",
    "    for reg_strength in reg_strengths:\n",
    "        for learning_rate in learning_rates:\n",
    "            model = TwoLayerNet(n_input = train_X.shape[1], n_output = 10, hidden_layer_size = hidden_layer_size, reg = reg_strength)\n",
    "            dataset = Dataset(train_X, train_y, val_X, val_y)\n",
    "            trainer = Trainer(model, dataset, MomentumSGD(), learning_rate=learning_rate, num_epochs=num_epochs, batch_size=batch_size, learning_rate_decay=learning_rate_decay)\n",
    "\n",
    "            loss_history, train_history, val_history = trainer.fit()\n",
    "            if best_val_accuracy < val_history[-1]:\n",
    "                print(f\"new leader with val_acc={val_history[-1]} and params: [{hidden_layer_size=} {reg_strength=} {learning_rate=}]\")\n",
    "                best_val_accuracy = val_history[-1]\n",
    "                best_classifier = model\n",
    "\n",
    "\n",
    "print('best validation accuracy achieved: %f' % best_val_accuracy)"
   ]
  },
  {
   "cell_type": "code",
   "execution_count": 122,
   "metadata": {},
   "outputs": [
    {
     "data": {
      "text/plain": "[<matplotlib.lines.Line2D at 0x7fa552b813a0>]"
     },
     "execution_count": 122,
     "metadata": {},
     "output_type": "execute_result"
    },
    {
     "data": {
      "text/plain": "<Figure size 1080x504 with 2 Axes>",
      "image/png": "[encoded data removed]"
     },
     "metadata": {
      "needs_background": "light"
     },
     "output_type": "display_data"
    }
   ],
   "source": [
    "plt.figure(figsize=(15, 7))\n",
    "plt.subplot(211)\n",
    "plt.title(\"Loss\")\n",
    "plt.plot(loss_history)\n",
    "plt.subplot(212)\n",
    "plt.title(\"Train/validation accuracy\")\n",
    "plt.plot(train_history)\n",
    "plt.plot(val_history)"
   ]
  },
  {
   "cell_type": "markdown",
   "metadata": {},
   "source": [
    "# Как обычно, посмотрим, как наша лучшая модель работает на тестовых данных"
   ]
  },
  {
   "cell_type": "code",
   "execution_count": 124,
   "metadata": {},
   "outputs": [
    {
     "name": "stdout",
     "output_type": "stream",
     "text": [
      "Neural net test set accuracy: 0.731000\n"
     ]
    }
   ],
   "source": [
    "test_pred = best_classifier.predict(test_X)\n",
    "test_accuracy = multiclass_accuracy(test_pred, test_y)\n",
    "print('Neural net test set accuracy: %f' % (test_accuracy, ))"
   ]
  },
  {
   "cell_type": "markdown",
   "source": [
    "new leader with val_acc=0.759 and params: [hidden_layer_size=150 reg_strength=0.001 learning_rate=0.01]"
   ],
   "metadata": {
    "collapsed": false,
    "pycharm": {
     "name": "#%% md\n"
    }
   }
  }
 ],
 "metadata": {
  "kernelspec": {
   "name": "my-virtualenv-name",
   "language": "python",
   "display_name": "my-virtualenv-name"
  },
  "language_info": {
   "codemirror_mode": {
    "name": "ipython",
    "version": 3
   },
   "file_extension": ".py",
   "mimetype": "text/x-python",
   "name": "python",
   "nbconvert_exporter": "python",
   "pygments_lexer": "ipython3",
   "version": "3.9.7"
  }
 },
 "nbformat": 4,
 "nbformat_minor": 2
}