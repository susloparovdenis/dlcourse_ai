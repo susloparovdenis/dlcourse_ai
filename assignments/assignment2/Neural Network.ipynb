{
 "cells": [
  {
   "cell_type": "markdown",
   "metadata": {},
   "source": [
    "# Задание 2.1 - Нейронные сети\n",
    "\n",
    "В этом задании вы реализуете и натренируете настоящую нейроную сеть своими руками!\n",
    "\n",
    "В некотором смысле это будет расширением прошлого задания - нам нужно просто составить несколько линейных классификаторов вместе!\n",
    "\n",
    "<img src=\"https://i.redd.it/n9fgba8b0qr01.png\" alt=\"Stack_more_layers\" width=\"400px\"/>"
   ]
  },
  {
   "cell_type": "code",
   "execution_count": 15,
   "metadata": {},
   "outputs": [
    {
     "name": "stdout",
     "output_type": "stream",
     "text": [
      "/home/denis/Source/colab/dlcourse_ai/assignments/assignment1\n"
     ]
    }
   ],
   "source": [
    "%cd assignments/assignment1"
   ]
  },
  {
   "cell_type": "code",
   "execution_count": null,
   "metadata": {},
   "outputs": [],
   "source": []
  },
  {
   "cell_type": "code",
   "execution_count": 9,
   "metadata": {},
   "outputs": [
    {
     "name": "stdout",
     "output_type": "stream",
     "text": [
      "The autoreload extension is already loaded. To reload it, use:\n",
      "  %reload_ext autoreload\n"
     ]
    }
   ],
   "source": [
    "import numpy as np\n",
    "import matplotlib.pyplot as plt\n",
    "\n",
    "%matplotlib inline\n",
    "\n",
    "%load_ext autoreload\n",
    "%autoreload 2"
   ]
  },
  {
   "cell_type": "code",
   "execution_count": 13,
   "metadata": {
    "collapsed": false,
    "jupyter": {
     "outputs_hidden": false
    },
    "pycharm": {
     "name": "#%%\n"
    }
   },
   "outputs": [],
   "source": [
    "from dataset import load_svhn, random_split_train_val\n",
    "from gradient_check import check_layer_gradient, check_layer_param_gradient, check_model_gradient\n",
    "from layers import FullyConnectedLayer, ReLULayer\n",
    "from model import TwoLayerNet\n",
    "from trainer import Trainer, Dataset\n",
    "from optim import SGD, MomentumSGD\n",
    "from metrics import multiclass_accuracy"
   ]
  },
  {
   "cell_type": "markdown",
   "metadata": {},
   "source": [
    "# Загружаем данные\n",
    "\n",
    "И разделяем их на training и validation."
   ]
  },
  {
   "cell_type": "code",
   "execution_count": 16,
   "metadata": {},
   "outputs": [],
   "source": [
    "def prepare_for_neural_network(train_X, test_X):\n",
    "    train_flat = train_X.reshape(train_X.shape[0], -1).astype(float) / 255.0\n",
    "    test_flat = test_X.reshape(test_X.shape[0], -1).astype(float) / 255.0\n",
    "    \n",
    "    # Subtract mean\n",
    "    mean_image = np.mean(train_flat, axis = 0)\n",
    "    train_flat -= mean_image\n",
    "    test_flat -= mean_image\n",
    "    \n",
    "    return train_flat, test_flat\n",
    "    \n",
    "train_X, train_y, test_X, test_y = load_svhn(\"data\", max_train=10000, max_test=1000)    \n",
    "train_X, test_X = prepare_for_neural_network(train_X, test_X)\n",
    "# Split train into train and val\n",
    "train_X, train_y, val_X, val_y = random_split_train_val(train_X, train_y, num_val = 1000)"
   ]
  },
  {
   "cell_type": "markdown",
   "metadata": {},
   "source": [
    "# Как всегда, начинаем с кирпичиков\n",
    "\n",
    "Мы будем реализовывать необходимые нам слои по очереди. Каждый слой должен реализовать:\n",
    "- прямой проход (forward pass), который генерирует выход слоя по входу и запоминает необходимые данные\n",
    "- обратный проход (backward pass), который получает градиент по выходу слоя и вычисляет градиент по входу и по параметрам\n",
    "\n",
    "Начнем с ReLU, у которого параметров нет."
   ]
  },
  {
   "cell_type": "code",
   "execution_count": 17,
   "metadata": {},
   "outputs": [
    {
     "name": "stdout",
     "output_type": "stream",
     "text": [
      "Gradient check passed!\n"
     ]
    }
   ],
   "source": [
    "# TODO: Implement ReLULayer layer in layers.py\n",
    "# Note: you'll need to copy implementation of the gradient_check function from the previous assignment\n",
    "\n",
    "X = np.array([[1,-2,3],\n",
    "              [-1, 2, 0.1]\n",
    "              ])\n",
    "\n",
    "assert check_layer_gradient(ReLULayer(), X)"
   ]
  },
  {
   "cell_type": "markdown",
   "metadata": {},
   "source": [
    "А теперь реализуем полносвязный слой (fully connected layer), у которого будет два массива параметров: W (weights) и B (bias).\n",
    "\n",
    "Все параметры наши слои будут использовать для параметров специальный класс `Param`, в котором будут храниться значения параметров и градиенты этих параметров, вычисляемые во время обратного прохода.\n",
    "\n",
    "Это даст возможность аккумулировать (суммировать) градиенты из разных частей функции потерь, например, из cross-entropy loss и regularization loss."
   ]
  },
  {
   "cell_type": "code",
   "execution_count": 18,
   "metadata": {},
   "outputs": [
    {
     "name": "stdout",
     "output_type": "stream",
     "text": [
      "Gradient check passed!\n",
      "Gradient check passed!\n",
      "Gradient check passed!\n"
     ]
    }
   ],
   "source": [
    "# TODO: Implement FullyConnected layer forward and backward methods\n",
    "assert check_layer_gradient(FullyConnectedLayer(3, 4), X)\n",
    "# TODO: Implement storing gradients for W and B\n",
    "assert check_layer_param_gradient(FullyConnectedLayer(3, 4), X, 'W')\n",
    "assert check_layer_param_gradient(FullyConnectedLayer(3, 4), X, 'B')"
   ]
  },
  {
   "cell_type": "markdown",
   "metadata": {},
   "source": [
    "## Создаем нейронную сеть\n",
    "\n",
    "Теперь мы реализуем простейшую нейронную сеть с двумя полносвязным слоями и нелинейностью ReLU. Реализуйте функцию `compute_loss_and_gradients`, она должна запустить прямой и обратный проход через оба слоя для вычисления градиентов.\n",
    "\n",
    "Не забудьте реализовать очистку градиентов в начале функции."
   ]
  },
  {
   "cell_type": "code",
   "execution_count": 19,
   "metadata": {},
   "outputs": [
    {
     "name": "stdout",
     "output_type": "stream",
     "text": [
      "Checking gradient for FullyConnectedLayer_0_W\n",
      "Gradient check passed!\n",
      "Checking gradient for FullyConnectedLayer_0_B\n",
      "Gradient check passed!\n",
      "Checking gradient for FullyConnectedLayer_2_W\n",
      "Gradient check passed!\n",
      "Checking gradient for FullyConnectedLayer_2_B\n",
      "Gradient check passed!\n"
     ]
    },
    {
     "data": {
      "text/plain": [
       "True"
      ]
     },
     "execution_count": 19,
     "metadata": {},
     "output_type": "execute_result"
    }
   ],
   "source": [
    "# TODO: In model.py, implement compute_loss_and_gradients function\n",
    "model = TwoLayerNet(n_input = train_X.shape[1], n_output = 10, hidden_layer_size = 3, reg = 0)\n",
    "loss = model.compute_loss_and_gradients(train_X[:2], train_y[:2])\n",
    "\n",
    "# TODO Now implement backward pass and aggregate all of the params\n",
    "check_model_gradient(model, train_X[:2], train_y[:2])"
   ]
  },
  {
   "cell_type": "markdown",
   "metadata": {},
   "source": [
    "Теперь добавьте к модели регуляризацию - она должна прибавляться к loss и делать свой вклад в градиенты."
   ]
  },
  {
   "cell_type": "code",
   "execution_count": 20,
   "metadata": {},
   "outputs": [
    {
     "name": "stdout",
     "output_type": "stream",
     "text": [
      "Checking gradient for FullyConnectedLayer_0_W\n",
      "Gradient check passed!\n",
      "Checking gradient for FullyConnectedLayer_0_B\n",
      "Gradient check passed!\n",
      "Checking gradient for FullyConnectedLayer_2_W\n",
      "Gradient check passed!\n",
      "Checking gradient for FullyConnectedLayer_2_B\n",
      "Gradient check passed!\n"
     ]
    },
    {
     "data": {
      "text/plain": [
       "True"
      ]
     },
     "execution_count": 20,
     "metadata": {},
     "output_type": "execute_result"
    }
   ],
   "source": [
    "# TODO Now implement l2 regularization in the forward and backward pass\n",
    "model_with_reg = TwoLayerNet(n_input = train_X.shape[1], n_output = 10, hidden_layer_size = 3, reg = 1e1)\n",
    "loss_with_reg = model_with_reg.compute_loss_and_gradients(train_X[:2], train_y[:2])\n",
    "assert loss_with_reg > loss and not np.isclose(loss_with_reg, loss), \\\n",
    "    \"Loss with regularization (%2.4f) should be higher than without it (%2.4f)!\" % (loss, loss_with_reg)\n",
    "\n",
    "check_model_gradient(model_with_reg, train_X[:2], train_y[:2])"
   ]
  },
  {
   "cell_type": "markdown",
   "metadata": {},
   "source": [
    "Также реализуем функцию предсказания (вычисления значения) модели на новых данных.\n",
    "\n",
    "Какое значение точности мы ожидаем увидеть до начала тренировки?"
   ]
  },
  {
   "cell_type": "code",
   "execution_count": 21,
   "metadata": {
    "collapsed": false,
    "jupyter": {
     "outputs_hidden": false
    },
    "pycharm": {
     "name": "#%%\n"
    }
   },
   "outputs": [
    {
     "data": {
      "text/plain": [
       "0.15"
      ]
     },
     "execution_count": 21,
     "metadata": {},
     "output_type": "execute_result"
    }
   ],
   "source": [
    "# Finally, implement predict function!\n",
    "\n",
    "# TODO: Implement predict function\n",
    "# What would be the value we expect?\n",
    "samples = 900\n",
    "multiclass_accuracy(model_with_reg.predict(train_X[:samples]), train_y[:samples])"
   ]
  },
  {
   "cell_type": "code",
   "execution_count": 22,
   "metadata": {
    "collapsed": false,
    "jupyter": {
     "outputs_hidden": false
    },
    "pycharm": {
     "name": "#%%\n"
    }
   },
   "outputs": [
    {
     "data": {
      "text/plain": [
       "135"
      ]
     },
     "execution_count": 22,
     "metadata": {},
     "output_type": "execute_result"
    }
   ],
   "source": [
    "np.sum(train_y[:samples]==2)"
   ]
  },
  {
   "cell_type": "markdown",
   "metadata": {},
   "source": [
    "# Допишем код для процесса тренировки\n",
    "\n",
    "Если все реализовано корректно, значение функции ошибки должно уменьшаться с каждой эпохой, пусть и медленно. Не беспокойтесь пока про validation accuracy."
   ]
  },
  {
   "cell_type": "code",
   "execution_count": 27,
   "metadata": {},
   "outputs": [
    {
     "name": "stdout",
     "output_type": "stream",
     "text": [
      "Loss: 2.299364, Train accuracy: 0.196667, val accuracy: 0.206000\n",
      "Loss: 2.303996, Train accuracy: 0.196667, val accuracy: 0.206000\n",
      "Loss: 2.306916, Train accuracy: 0.196667, val accuracy: 0.206000\n",
      "Loss: 2.295179, Train accuracy: 0.196667, val accuracy: 0.206000\n",
      "Loss: 2.304208, Train accuracy: 0.196667, val accuracy: 0.206000\n",
      "Loss: 2.294550, Train accuracy: 0.196667, val accuracy: 0.206000\n",
      "Loss: 2.304028, Train accuracy: 0.196667, val accuracy: 0.206000\n",
      "Loss: 2.291798, Train accuracy: 0.196667, val accuracy: 0.206000\n",
      "Loss: 2.303474, Train accuracy: 0.196667, val accuracy: 0.206000\n",
      "Loss: 2.298647, Train accuracy: 0.196667, val accuracy: 0.206000\n",
      "Loss: 2.302627, Train accuracy: 0.196667, val accuracy: 0.206000\n",
      "Loss: 2.304788, Train accuracy: 0.196667, val accuracy: 0.206000\n",
      "Loss: 2.297501, Train accuracy: 0.196667, val accuracy: 0.206000\n",
      "Loss: 2.300976, Train accuracy: 0.196667, val accuracy: 0.206000\n",
      "Loss: 2.290628, Train accuracy: 0.196667, val accuracy: 0.206000\n",
      "Loss: 2.302745, Train accuracy: 0.196667, val accuracy: 0.206000\n",
      "Loss: 2.291922, Train accuracy: 0.196667, val accuracy: 0.206000\n",
      "Loss: 2.305899, Train accuracy: 0.196667, val accuracy: 0.206000\n",
      "Loss: 2.289555, Train accuracy: 0.196667, val accuracy: 0.206000\n",
      "Loss: 2.300634, Train accuracy: 0.196667, val accuracy: 0.206000\n"
     ]
    }
   ],
   "source": [
    "model = TwoLayerNet(n_input = train_X.shape[1], n_output = 10, hidden_layer_size = 100, reg = 1)\n",
    "dataset = Dataset(train_X, train_y, val_X, val_y)\n",
    "trainer = Trainer(model, dataset, SGD(), learning_rate = 1e-2)\n",
    "\n",
    "# TODO Implement missing pieces in Trainer.fit function\n",
    "# You should expect loss to go down every epoch, even if it's slow\n",
    "loss_history, train_history, val_history = trainer.fit()"
   ]
  },
  {
   "cell_type": "code",
   "execution_count": 28,
   "metadata": {},
   "outputs": [
    {
     "data": {
      "text/plain": [
       "[<matplotlib.lines.Line2D at 0x7fd07cd66430>]"
      ]
     },
     "execution_count": 28,
     "metadata": {},
     "output_type": "execute_result"
    },
    {
     "data": {
      "image/png": "[encoded data removed]",
      "text/plain": [
       "<Figure size 432x288 with 1 Axes>"
      ]
     },
     "metadata": {
      "needs_background": "light"
     },
     "output_type": "display_data"
    }
   ],
   "source": [
    "plt.plot(train_history)\n",
    "plt.plot(val_history)"
   ]
  },
  {
   "cell_type": "markdown",
   "metadata": {},
   "source": [
    "# Улучшаем процесс тренировки\n",
    "\n",
    "Мы реализуем несколько ключевых оптимизаций, необходимых для тренировки современных нейросетей."
   ]
  },
  {
   "cell_type": "markdown",
   "metadata": {},
   "source": [
    "## Уменьшение скорости обучения (learning rate decay)\n",
    "\n",
    "Одна из необходимых оптимизаций во время тренировки нейронных сетей - постепенное уменьшение скорости обучения по мере тренировки.\n",
    "\n",
    "Один из стандартных методов - уменьшение скорости обучения (learning rate) каждые N эпох на коэффициент d (часто называемый decay). Значения N и d, как всегда, являются гиперпараметрами и должны подбираться на основе эффективности на проверочных данных (validation data). \n",
    "\n",
    "В нашем случае N будет равным 1."
   ]
  },
  {
   "cell_type": "code",
   "execution_count": 29,
   "metadata": {},
   "outputs": [
    {
     "name": "stdout",
     "output_type": "stream",
     "text": [
      "Loss: 2.281337, Train accuracy: 0.196667, val accuracy: 0.206000\n",
      "Loss: 2.296953, Train accuracy: 0.196667, val accuracy: 0.206000\n",
      "Loss: 2.311361, Train accuracy: 0.196667, val accuracy: 0.206000\n",
      "Loss: 2.312841, Train accuracy: 0.196667, val accuracy: 0.206000\n",
      "Loss: 2.295474, Train accuracy: 0.196667, val accuracy: 0.206000\n",
      "Loss: 2.241209, Train accuracy: 0.196667, val accuracy: 0.206000\n",
      "Loss: 2.253498, Train accuracy: 0.196667, val accuracy: 0.206000\n",
      "Loss: 2.341119, Train accuracy: 0.196667, val accuracy: 0.206000\n",
      "Loss: 2.295631, Train accuracy: 0.196667, val accuracy: 0.206000\n",
      "Loss: 2.224670, Train accuracy: 0.196667, val accuracy: 0.206000\n",
      "Loss: 2.262271, Train accuracy: 0.196667, val accuracy: 0.206000\n",
      "Loss: 2.182057, Train accuracy: 0.196667, val accuracy: 0.206000\n",
      "Loss: 2.262760, Train accuracy: 0.196667, val accuracy: 0.206000\n",
      "Loss: 2.272200, Train accuracy: 0.196667, val accuracy: 0.206000\n",
      "Loss: 2.284177, Train accuracy: 0.196667, val accuracy: 0.206000\n",
      "Loss: 2.260060, Train accuracy: 0.196667, val accuracy: 0.206000\n",
      "Loss: 2.320207, Train accuracy: 0.196667, val accuracy: 0.206000\n",
      "Loss: 2.208350, Train accuracy: 0.196667, val accuracy: 0.206000\n",
      "Loss: 2.309415, Train accuracy: 0.196667, val accuracy: 0.206000\n",
      "Loss: 2.338348, Train accuracy: 0.196667, val accuracy: 0.206000\n"
     ]
    }
   ],
   "source": [
    "# TODO Implement learning rate decay inside Trainer.fit method\n",
    "# Decay should happen once per epoch\n",
    "\n",
    "model = TwoLayerNet(n_input = train_X.shape[1], n_output = 10, hidden_layer_size = 100, reg = 1e-1)\n",
    "dataset = Dataset(train_X, train_y, val_X, val_y)\n",
    "trainer = Trainer(model, dataset, SGD(), learning_rate_decay=0.99)\n",
    "\n",
    "initial_learning_rate = trainer.learning_rate\n",
    "loss_history, train_history, val_history = trainer.fit()\n",
    "\n",
    "assert trainer.learning_rate < initial_learning_rate, \"Learning rate should've been reduced\"\n",
    "assert trainer.learning_rate > 0.5*initial_learning_rate, \"Learning rate shouldn'tve been reduced that much!\""
   ]
  },
  {
   "cell_type": "markdown",
   "metadata": {},
   "source": [
    "# Накопление импульса (Momentum SGD)\n",
    "\n",
    "Другой большой класс оптимизаций - использование более эффективных методов градиентного спуска. Мы реализуем один из них - накопление импульса (Momentum SGD).\n",
    "\n",
    "Этот метод хранит скорость движения, использует градиент для ее изменения на каждом шаге, и изменяет веса пропорционально значению скорости.\n",
    "(Физическая аналогия: Вместо скорости градиенты теперь будут задавать ускорение, но будет присутствовать сила трения.)\n",
    "\n",
    "```\n",
    "velocity = momentum * velocity - learning_rate * gradient \n",
    "w = w + velocity\n",
    "```\n",
    "\n",
    "`momentum` здесь коэффициент затухания, который тоже является гиперпараметром (к счастью, для него часто есть хорошее значение по умолчанию, типичный диапазон -- 0.8-0.99).\n",
    "\n",
    "Несколько полезных ссылок, где метод разбирается более подробно:  \n",
    "http://cs231n.github.io/neural-networks-3/#sgd  \n",
    "https://distill.pub/2017/momentum/"
   ]
  },
  {
   "cell_type": "code",
   "execution_count": 30,
   "metadata": {},
   "outputs": [
    {
     "name": "stdout",
     "output_type": "stream",
     "text": [
      "Loss: 2.311430, Train accuracy: 0.196667, val accuracy: 0.206000\n",
      "Loss: 2.316921, Train accuracy: 0.196667, val accuracy: 0.206000\n",
      "Loss: 2.308512, Train accuracy: 0.196667, val accuracy: 0.206000\n",
      "Loss: 2.307118, Train accuracy: 0.196667, val accuracy: 0.206000\n",
      "Loss: 2.314216, Train accuracy: 0.196667, val accuracy: 0.206000\n",
      "Loss: 2.310917, Train accuracy: 0.196667, val accuracy: 0.206000\n",
      "Loss: 2.290527, Train accuracy: 0.196667, val accuracy: 0.206000\n",
      "Loss: 2.259834, Train accuracy: 0.196667, val accuracy: 0.206000\n",
      "Loss: 2.288004, Train accuracy: 0.196667, val accuracy: 0.206000\n",
      "Loss: 2.272567, Train accuracy: 0.196667, val accuracy: 0.206000\n",
      "Loss: 2.227918, Train accuracy: 0.196667, val accuracy: 0.206000\n",
      "Loss: 2.288148, Train accuracy: 0.196667, val accuracy: 0.206000\n",
      "Loss: 2.300996, Train accuracy: 0.196667, val accuracy: 0.206000\n",
      "Loss: 2.246914, Train accuracy: 0.196667, val accuracy: 0.206000\n",
      "Loss: 2.322529, Train accuracy: 0.196667, val accuracy: 0.206000\n",
      "Loss: 2.288680, Train accuracy: 0.196667, val accuracy: 0.206000\n",
      "Loss: 2.261971, Train accuracy: 0.196667, val accuracy: 0.206000\n",
      "Loss: 2.285712, Train accuracy: 0.196667, val accuracy: 0.206000\n",
      "Loss: 2.245889, Train accuracy: 0.196667, val accuracy: 0.206000\n",
      "Loss: 2.285073, Train accuracy: 0.196667, val accuracy: 0.206000\n"
     ]
    }
   ],
   "source": [
    "# TODO: Implement MomentumSGD.update function in optim.py\n",
    "\n",
    "model = TwoLayerNet(n_input = train_X.shape[1], n_output = 10, hidden_layer_size = 100, reg = 1e-1)\n",
    "dataset = Dataset(train_X, train_y, val_X, val_y)\n",
    "trainer = Trainer(model, dataset, MomentumSGD(), learning_rate=1e-4, learning_rate_decay=0.99)\n",
    "\n",
    "# You should see even better results than before!\n",
    "loss_history, train_history, val_history = trainer.fit()"
   ]
  },
  {
   "cell_type": "markdown",
   "metadata": {},
   "source": [
    "# Ну что, давайте уже тренировать сеть!"
   ]
  },
  {
   "cell_type": "markdown",
   "metadata": {},
   "source": [
    "## Последний тест - переобучимся (overfit) на маленьком наборе данных\n",
    "\n",
    "Хороший способ проверить, все ли реализовано корректно - переобучить сеть на маленьком наборе данных.  \n",
    "Наша модель обладает достаточной мощностью, чтобы приблизить маленький набор данных идеально, поэтому мы ожидаем, что на нем мы быстро дойдем до 100% точности на тренировочном наборе. \n",
    "\n",
    "Если этого не происходит, то где-то была допущена ошибка!"
   ]
  },
  {
   "cell_type": "code",
   "execution_count": 31,
   "metadata": {},
   "outputs": [
    {
     "name": "stdout",
     "output_type": "stream",
     "text": [
      "Loss: 2.331619, Train accuracy: 0.200000, val accuracy: 0.066667\n",
      "Loss: 2.336105, Train accuracy: 0.200000, val accuracy: 0.133333\n",
      "Loss: 2.321334, Train accuracy: 0.266667, val accuracy: 0.000000\n",
      "Loss: 2.331523, Train accuracy: 0.266667, val accuracy: 0.000000\n",
      "Loss: 2.294044, Train accuracy: 0.266667, val accuracy: 0.000000\n",
      "Loss: 2.257004, Train accuracy: 0.266667, val accuracy: 0.000000\n",
      "Loss: 2.298353, Train accuracy: 0.266667, val accuracy: 0.000000\n",
      "Loss: 2.349459, Train accuracy: 0.266667, val accuracy: 0.000000\n",
      "Loss: 2.279768, Train accuracy: 0.266667, val accuracy: 0.000000\n",
      "Loss: 1.960522, Train accuracy: 0.400000, val accuracy: 0.000000\n",
      "Loss: 1.928829, Train accuracy: 0.400000, val accuracy: 0.000000\n",
      "Loss: 1.982798, Train accuracy: 0.400000, val accuracy: 0.000000\n",
      "Loss: 2.218993, Train accuracy: 0.400000, val accuracy: 0.000000\n",
      "Loss: 2.015133, Train accuracy: 0.333333, val accuracy: 0.000000\n",
      "Loss: 1.962675, Train accuracy: 0.333333, val accuracy: 0.000000\n",
      "Loss: 2.426123, Train accuracy: 0.400000, val accuracy: 0.000000\n",
      "Loss: 1.822621, Train accuracy: 0.333333, val accuracy: 0.000000\n",
      "Loss: 1.946312, Train accuracy: 0.400000, val accuracy: 0.000000\n",
      "Loss: 1.731569, Train accuracy: 0.400000, val accuracy: 0.000000\n",
      "Loss: 2.122162, Train accuracy: 0.400000, val accuracy: 0.000000\n",
      "Loss: 1.757687, Train accuracy: 0.400000, val accuracy: 0.000000\n",
      "Loss: 1.756944, Train accuracy: 0.466667, val accuracy: 0.000000\n",
      "Loss: 1.550047, Train accuracy: 0.466667, val accuracy: 0.000000\n",
      "Loss: 1.471494, Train accuracy: 0.466667, val accuracy: 0.000000\n",
      "Loss: 1.849322, Train accuracy: 0.466667, val accuracy: 0.000000\n",
      "Loss: 1.094404, Train accuracy: 0.400000, val accuracy: 0.000000\n",
      "Loss: 1.889466, Train accuracy: 0.466667, val accuracy: 0.066667\n",
      "Loss: 2.053481, Train accuracy: 0.533333, val accuracy: 0.066667\n",
      "Loss: 2.168377, Train accuracy: 0.533333, val accuracy: 0.066667\n",
      "Loss: 1.386667, Train accuracy: 0.533333, val accuracy: 0.000000\n",
      "Loss: 1.936363, Train accuracy: 0.600000, val accuracy: 0.066667\n",
      "Loss: 1.611942, Train accuracy: 0.600000, val accuracy: 0.000000\n",
      "Loss: 1.980843, Train accuracy: 0.666667, val accuracy: 0.066667\n",
      "Loss: 1.687137, Train accuracy: 0.666667, val accuracy: 0.066667\n",
      "Loss: 1.766181, Train accuracy: 0.666667, val accuracy: 0.066667\n",
      "Loss: 1.226302, Train accuracy: 0.666667, val accuracy: 0.066667\n",
      "Loss: 1.452529, Train accuracy: 0.666667, val accuracy: 0.000000\n",
      "Loss: 1.620547, Train accuracy: 0.666667, val accuracy: 0.066667\n",
      "Loss: 1.664671, Train accuracy: 0.733333, val accuracy: 0.066667\n",
      "Loss: 1.773169, Train accuracy: 0.666667, val accuracy: 0.133333\n",
      "Loss: 1.974947, Train accuracy: 0.666667, val accuracy: 0.000000\n",
      "Loss: 1.941742, Train accuracy: 0.666667, val accuracy: 0.066667\n",
      "Loss: 1.199350, Train accuracy: 0.666667, val accuracy: 0.066667\n",
      "Loss: 1.365904, Train accuracy: 0.666667, val accuracy: 0.133333\n",
      "Loss: 1.050435, Train accuracy: 0.666667, val accuracy: 0.066667\n",
      "Loss: 1.826106, Train accuracy: 0.666667, val accuracy: 0.000000\n",
      "Loss: 1.995411, Train accuracy: 0.666667, val accuracy: 0.066667\n",
      "Loss: 1.232229, Train accuracy: 0.666667, val accuracy: 0.066667\n",
      "Loss: 1.598591, Train accuracy: 0.666667, val accuracy: 0.066667\n",
      "Loss: 1.683696, Train accuracy: 0.666667, val accuracy: 0.000000\n",
      "Loss: 1.488535, Train accuracy: 0.666667, val accuracy: 0.066667\n",
      "Loss: 1.837487, Train accuracy: 0.666667, val accuracy: 0.066667\n",
      "Loss: 1.615028, Train accuracy: 0.733333, val accuracy: 0.066667\n",
      "Loss: 0.956633, Train accuracy: 0.733333, val accuracy: 0.066667\n",
      "Loss: 1.095733, Train accuracy: 0.733333, val accuracy: 0.066667\n",
      "Loss: 1.468586, Train accuracy: 0.733333, val accuracy: 0.066667\n",
      "Loss: 1.636529, Train accuracy: 0.733333, val accuracy: 0.066667\n",
      "Loss: 1.865111, Train accuracy: 0.733333, val accuracy: 0.066667\n",
      "Loss: 1.302042, Train accuracy: 0.733333, val accuracy: 0.066667\n",
      "Loss: 1.682677, Train accuracy: 0.733333, val accuracy: 0.066667\n",
      "Loss: 1.110165, Train accuracy: 0.733333, val accuracy: 0.066667\n",
      "Loss: 0.747626, Train accuracy: 0.733333, val accuracy: 0.066667\n",
      "Loss: 1.674309, Train accuracy: 0.733333, val accuracy: 0.066667\n",
      "Loss: 1.308649, Train accuracy: 0.733333, val accuracy: 0.066667\n",
      "Loss: 1.339179, Train accuracy: 0.733333, val accuracy: 0.066667\n",
      "Loss: 1.168453, Train accuracy: 0.733333, val accuracy: 0.066667\n",
      "Loss: 1.294782, Train accuracy: 0.733333, val accuracy: 0.066667\n",
      "Loss: 1.016562, Train accuracy: 0.733333, val accuracy: 0.066667\n",
      "Loss: 1.638504, Train accuracy: 0.733333, val accuracy: 0.066667\n",
      "Loss: 0.981930, Train accuracy: 0.733333, val accuracy: 0.066667\n",
      "Loss: 0.951172, Train accuracy: 0.733333, val accuracy: 0.066667\n",
      "Loss: 1.326753, Train accuracy: 0.733333, val accuracy: 0.066667\n",
      "Loss: 1.613736, Train accuracy: 0.733333, val accuracy: 0.066667\n",
      "Loss: 1.656068, Train accuracy: 0.733333, val accuracy: 0.066667\n",
      "Loss: 1.895519, Train accuracy: 0.733333, val accuracy: 0.066667\n",
      "Loss: 1.694498, Train accuracy: 0.733333, val accuracy: 0.066667\n",
      "Loss: 1.656207, Train accuracy: 0.800000, val accuracy: 0.066667\n",
      "Loss: 1.231373, Train accuracy: 0.800000, val accuracy: 0.066667\n",
      "Loss: 1.850952, Train accuracy: 0.866667, val accuracy: 0.066667\n",
      "Loss: 1.030511, Train accuracy: 0.866667, val accuracy: 0.066667\n",
      "Loss: 1.651746, Train accuracy: 0.866667, val accuracy: 0.066667\n",
      "Loss: 1.308095, Train accuracy: 0.866667, val accuracy: 0.066667\n",
      "Loss: 1.657759, Train accuracy: 0.866667, val accuracy: 0.066667\n",
      "Loss: 1.284165, Train accuracy: 0.866667, val accuracy: 0.066667\n",
      "Loss: 1.667570, Train accuracy: 0.866667, val accuracy: 0.066667\n",
      "Loss: 1.393020, Train accuracy: 0.866667, val accuracy: 0.066667\n",
      "Loss: 0.932146, Train accuracy: 0.866667, val accuracy: 0.066667\n",
      "Loss: 1.315353, Train accuracy: 0.866667, val accuracy: 0.066667\n",
      "Loss: 1.637003, Train accuracy: 0.866667, val accuracy: 0.066667\n",
      "Loss: 1.342179, Train accuracy: 0.866667, val accuracy: 0.066667\n",
      "Loss: 1.393454, Train accuracy: 0.866667, val accuracy: 0.066667\n",
      "Loss: 1.340114, Train accuracy: 0.866667, val accuracy: 0.066667\n",
      "Loss: 1.654904, Train accuracy: 0.866667, val accuracy: 0.066667\n",
      "Loss: 1.124610, Train accuracy: 0.866667, val accuracy: 0.066667\n",
      "Loss: 1.082715, Train accuracy: 0.866667, val accuracy: 0.066667\n",
      "Loss: 1.283445, Train accuracy: 0.866667, val accuracy: 0.066667\n",
      "Loss: 1.918388, Train accuracy: 0.866667, val accuracy: 0.066667\n",
      "Loss: 1.220978, Train accuracy: 0.866667, val accuracy: 0.066667\n",
      "Loss: 1.182456, Train accuracy: 0.866667, val accuracy: 0.066667\n",
      "Loss: 1.786293, Train accuracy: 0.866667, val accuracy: 0.066667\n",
      "Loss: 1.826134, Train accuracy: 0.933333, val accuracy: 0.066667\n",
      "Loss: 1.390726, Train accuracy: 0.933333, val accuracy: 0.066667\n",
      "Loss: 1.004250, Train accuracy: 0.933333, val accuracy: 0.066667\n",
      "Loss: 1.332182, Train accuracy: 0.933333, val accuracy: 0.066667\n",
      "Loss: 1.088247, Train accuracy: 0.933333, val accuracy: 0.066667\n",
      "Loss: 1.199570, Train accuracy: 0.933333, val accuracy: 0.000000\n",
      "Loss: 1.276655, Train accuracy: 0.933333, val accuracy: 0.000000\n",
      "Loss: 1.677136, Train accuracy: 0.933333, val accuracy: 0.000000\n",
      "Loss: 1.477137, Train accuracy: 0.933333, val accuracy: 0.000000\n",
      "Loss: 1.203887, Train accuracy: 0.933333, val accuracy: 0.000000\n",
      "Loss: 1.453137, Train accuracy: 0.933333, val accuracy: 0.000000\n",
      "Loss: 1.461487, Train accuracy: 0.933333, val accuracy: 0.000000\n",
      "Loss: 1.261173, Train accuracy: 0.933333, val accuracy: 0.000000\n",
      "Loss: 1.019665, Train accuracy: 0.933333, val accuracy: 0.000000\n",
      "Loss: 1.319885, Train accuracy: 0.933333, val accuracy: 0.000000\n",
      "Loss: 1.153449, Train accuracy: 0.933333, val accuracy: 0.000000\n",
      "Loss: 1.449272, Train accuracy: 0.933333, val accuracy: 0.000000\n",
      "Loss: 1.368123, Train accuracy: 0.933333, val accuracy: 0.000000\n",
      "Loss: 1.082283, Train accuracy: 0.933333, val accuracy: 0.000000\n",
      "Loss: 0.972001, Train accuracy: 0.933333, val accuracy: 0.000000\n",
      "Loss: 1.547196, Train accuracy: 1.000000, val accuracy: 0.000000\n",
      "Loss: 1.117870, Train accuracy: 0.933333, val accuracy: 0.000000\n",
      "Loss: 1.355211, Train accuracy: 0.933333, val accuracy: 0.000000\n",
      "Loss: 1.466750, Train accuracy: 0.933333, val accuracy: 0.000000\n",
      "Loss: 1.302657, Train accuracy: 1.000000, val accuracy: 0.000000\n",
      "Loss: 1.289473, Train accuracy: 0.933333, val accuracy: 0.000000\n",
      "Loss: 1.136708, Train accuracy: 0.933333, val accuracy: 0.000000\n",
      "Loss: 1.219108, Train accuracy: 1.000000, val accuracy: 0.000000\n",
      "Loss: 1.053260, Train accuracy: 1.000000, val accuracy: 0.000000\n",
      "Loss: 1.237531, Train accuracy: 0.933333, val accuracy: 0.000000\n",
      "Loss: 1.056663, Train accuracy: 1.000000, val accuracy: 0.000000\n",
      "Loss: 1.390735, Train accuracy: 1.000000, val accuracy: 0.000000\n",
      "Loss: 1.225059, Train accuracy: 1.000000, val accuracy: 0.000000\n",
      "Loss: 1.376369, Train accuracy: 1.000000, val accuracy: 0.000000\n",
      "Loss: 1.185635, Train accuracy: 1.000000, val accuracy: 0.000000\n",
      "Loss: 1.132326, Train accuracy: 1.000000, val accuracy: 0.000000\n",
      "Loss: 1.355696, Train accuracy: 1.000000, val accuracy: 0.000000\n",
      "Loss: 1.134266, Train accuracy: 1.000000, val accuracy: 0.000000\n",
      "Loss: 1.253288, Train accuracy: 1.000000, val accuracy: 0.000000\n",
      "Loss: 1.333920, Train accuracy: 1.000000, val accuracy: 0.000000\n",
      "Loss: 1.200495, Train accuracy: 1.000000, val accuracy: 0.000000\n",
      "Loss: 1.324620, Train accuracy: 1.000000, val accuracy: 0.000000\n",
      "Loss: 1.245064, Train accuracy: 1.000000, val accuracy: 0.000000\n",
      "Loss: 1.141008, Train accuracy: 1.000000, val accuracy: 0.000000\n",
      "Loss: 1.276993, Train accuracy: 1.000000, val accuracy: 0.000000\n",
      "Loss: 1.216704, Train accuracy: 1.000000, val accuracy: 0.000000\n",
      "Loss: 1.199682, Train accuracy: 1.000000, val accuracy: 0.000000\n",
      "Loss: 1.375885, Train accuracy: 1.000000, val accuracy: 0.000000\n",
      "Loss: 1.190198, Train accuracy: 1.000000, val accuracy: 0.000000\n",
      "Loss: 1.278186, Train accuracy: 1.000000, val accuracy: 0.000000\n"
     ]
    }
   ],
   "source": [
    "data_size = 15\n",
    "model = TwoLayerNet(n_input = train_X.shape[1], n_output = 10, hidden_layer_size = 100, reg = 1e-1)\n",
    "dataset = Dataset(train_X[:data_size], train_y[:data_size], val_X[:data_size], val_y[:data_size])\n",
    "trainer = Trainer(model, dataset, SGD(), learning_rate=1e-1, num_epochs=150, batch_size=5)\n",
    "\n",
    "# You should expect this to reach 1.0 training accuracy \n",
    "loss_history, train_history, val_history = trainer.fit()"
   ]
  },
  {
   "cell_type": "markdown",
   "metadata": {},
   "source": [
    "Теперь найдем гипепараметры, для которых этот процесс сходится быстрее.\n",
    "Если все реализовано корректно, то существуют параметры, при которых процесс сходится в **20** эпох или еще быстрее.\n",
    "Найдите их!"
   ]
  },
  {
   "cell_type": "code",
   "execution_count": 32,
   "metadata": {
    "collapsed": false,
    "jupyter": {
     "outputs_hidden": false
    },
    "pycharm": {
     "name": "#%%\n"
    }
   },
   "outputs": [
    {
     "name": "stdout",
     "output_type": "stream",
     "text": [
      "Loss: 2.327764, Train accuracy: 0.333333, val accuracy: 0.066667\n",
      "Loss: 2.315370, Train accuracy: 0.266667, val accuracy: 0.066667\n",
      "Loss: 2.235740, Train accuracy: 0.400000, val accuracy: 0.000000\n",
      "Loss: 1.894580, Train accuracy: 0.400000, val accuracy: 0.000000\n",
      "Loss: 2.349224, Train accuracy: 0.466667, val accuracy: 0.000000\n",
      "Loss: 1.254980, Train accuracy: 0.400000, val accuracy: 0.000000\n",
      "Loss: 2.193153, Train accuracy: 0.333333, val accuracy: 0.066667\n",
      "Loss: 2.431534, Train accuracy: 0.200000, val accuracy: 0.066667\n",
      "Loss: 1.953475, Train accuracy: 0.333333, val accuracy: 0.066667\n",
      "Loss: 1.400409, Train accuracy: 0.600000, val accuracy: 0.000000\n",
      "Loss: 1.280600, Train accuracy: 0.533333, val accuracy: 0.066667\n",
      "Loss: 2.040854, Train accuracy: 0.466667, val accuracy: 0.000000\n",
      "Loss: 1.642206, Train accuracy: 0.466667, val accuracy: 0.000000\n",
      "Loss: 0.953880, Train accuracy: 0.733333, val accuracy: 0.000000\n",
      "Loss: 1.244612, Train accuracy: 0.866667, val accuracy: 0.066667\n",
      "Loss: 1.336350, Train accuracy: 1.000000, val accuracy: 0.066667\n",
      "Loss: 0.484805, Train accuracy: 1.000000, val accuracy: 0.000000\n",
      "Loss: 0.612119, Train accuracy: 1.000000, val accuracy: 0.000000\n",
      "Loss: 0.271741, Train accuracy: 1.000000, val accuracy: 0.000000\n",
      "Loss: 0.276242, Train accuracy: 1.000000, val accuracy: 0.000000\n"
     ]
    }
   ],
   "source": [
    "# Now, tweak some hyper parameters and make it train to 1.0 accuracy in 20 epochs or less\n",
    "\n",
    "model = TwoLayerNet(n_input = train_X.shape[1], n_output = 10, hidden_layer_size = 400, reg = 1e-2)\n",
    "dataset = Dataset(train_X[:data_size], train_y[:data_size], val_X[:data_size], val_y[:data_size])\n",
    "# TODO: Change any hyperparamers or optimizators to reach training accuracy in 20 epochs\n",
    "trainer = Trainer(model, dataset, SGD(), learning_rate=3e-1, num_epochs=20, batch_size=5)\n",
    "\n",
    "loss_history, train_history, val_history = trainer.fit()"
   ]
  },
  {
   "cell_type": "markdown",
   "metadata": {},
   "source": [
    "# Итак, основное мероприятие!\n",
    "\n",
    "Натренируйте лучшую нейросеть! Можно добавлять и изменять параметры, менять количество нейронов в слоях сети и как угодно экспериментировать. \n",
    "\n",
    "Добейтесь точности лучше **60%** на validation set."
   ]
  },
  {
   "cell_type": "code",
   "execution_count": 33,
   "metadata": {
    "scrolled": true
   },
   "outputs": [
    {
     "name": "stdout",
     "output_type": "stream",
     "text": [
      "Loss: 2.173501, Train accuracy: 0.196667, val accuracy: 0.206000\n",
      "Loss: 2.100491, Train accuracy: 0.196667, val accuracy: 0.206000\n",
      "Loss: 2.278455, Train accuracy: 0.196667, val accuracy: 0.206000\n",
      "Loss: 2.080153, Train accuracy: 0.261000, val accuracy: 0.259000\n",
      "Loss: 2.029098, Train accuracy: 0.311000, val accuracy: 0.315000\n",
      "Loss: 1.510735, Train accuracy: 0.391000, val accuracy: 0.388000\n",
      "Loss: 1.827691, Train accuracy: 0.456667, val accuracy: 0.455000\n",
      "Loss: 1.613189, Train accuracy: 0.519333, val accuracy: 0.517000\n",
      "Loss: 1.156851, Train accuracy: 0.570444, val accuracy: 0.562000\n",
      "Loss: 1.442326, Train accuracy: 0.605889, val accuracy: 0.607000\n",
      "Loss: 1.447743, Train accuracy: 0.633222, val accuracy: 0.630000\n",
      "Loss: 1.191157, Train accuracy: 0.653556, val accuracy: 0.643000\n",
      "Loss: 1.219033, Train accuracy: 0.686000, val accuracy: 0.675000\n",
      "Loss: 0.856997, Train accuracy: 0.701111, val accuracy: 0.667000\n",
      "Loss: 0.980743, Train accuracy: 0.713000, val accuracy: 0.693000\n",
      "Loss: 1.060762, Train accuracy: 0.711667, val accuracy: 0.690000\n",
      "Loss: 0.891114, Train accuracy: 0.723889, val accuracy: 0.701000\n",
      "Loss: 1.046663, Train accuracy: 0.740111, val accuracy: 0.704000\n",
      "Loss: 1.061423, Train accuracy: 0.743889, val accuracy: 0.699000\n",
      "Loss: 1.014835, Train accuracy: 0.749333, val accuracy: 0.707000\n",
      "Loss: 0.994358, Train accuracy: 0.759667, val accuracy: 0.711000\n",
      "Loss: 0.936966, Train accuracy: 0.766111, val accuracy: 0.715000\n",
      "Loss: 0.671983, Train accuracy: 0.772222, val accuracy: 0.718000\n",
      "Loss: 0.980975, Train accuracy: 0.776778, val accuracy: 0.722000\n",
      "Loss: 1.021521, Train accuracy: 0.771111, val accuracy: 0.709000\n",
      "Loss: 0.951242, Train accuracy: 0.790222, val accuracy: 0.729000\n",
      "Loss: 0.845335, Train accuracy: 0.777000, val accuracy: 0.724000\n",
      "Loss: 1.079344, Train accuracy: 0.792444, val accuracy: 0.724000\n",
      "Loss: 0.889453, Train accuracy: 0.797667, val accuracy: 0.723000\n",
      "Loss: 1.070358, Train accuracy: 0.796556, val accuracy: 0.724000\n",
      "Loss: 0.854245, Train accuracy: 0.797222, val accuracy: 0.718000\n",
      "Loss: 1.207376, Train accuracy: 0.781222, val accuracy: 0.730000\n",
      "Loss: 0.971825, Train accuracy: 0.819111, val accuracy: 0.738000\n",
      "Loss: 0.945378, Train accuracy: 0.814889, val accuracy: 0.743000\n",
      "Loss: 0.885243, Train accuracy: 0.819556, val accuracy: 0.743000\n",
      "Loss: 0.687755, Train accuracy: 0.822667, val accuracy: 0.739000\n",
      "Loss: 1.155878, Train accuracy: 0.822889, val accuracy: 0.737000\n",
      "Loss: 0.910004, Train accuracy: 0.826333, val accuracy: 0.727000\n",
      "Loss: 0.899611, Train accuracy: 0.835222, val accuracy: 0.739000\n",
      "Loss: 1.096281, Train accuracy: 0.829556, val accuracy: 0.748000\n",
      "new leader with val_acc=0.748 and params: [hidden_layer_size=100 reg_strength=0.001 learning_rate=0.01]\n",
      "Loss: 2.155209, Train accuracy: 0.196667, val accuracy: 0.206000\n",
      "Loss: 2.230409, Train accuracy: 0.196667, val accuracy: 0.206000\n",
      "Loss: 2.075884, Train accuracy: 0.196667, val accuracy: 0.206000\n",
      "Loss: 2.231944, Train accuracy: 0.260222, val accuracy: 0.258000\n",
      "Loss: 1.962325, Train accuracy: 0.268778, val accuracy: 0.274000\n",
      "Loss: 1.768841, Train accuracy: 0.361444, val accuracy: 0.385000\n",
      "Loss: 1.544708, Train accuracy: 0.453111, val accuracy: 0.458000\n",
      "Loss: 1.429341, Train accuracy: 0.526444, val accuracy: 0.520000\n",
      "Loss: 1.426148, Train accuracy: 0.581444, val accuracy: 0.571000\n",
      "Loss: 1.093414, Train accuracy: 0.625111, val accuracy: 0.605000\n",
      "Loss: 1.361298, Train accuracy: 0.648889, val accuracy: 0.632000\n",
      "Loss: 1.462385, Train accuracy: 0.671000, val accuracy: 0.643000\n",
      "Loss: 1.126864, Train accuracy: 0.703889, val accuracy: 0.688000\n",
      "Loss: 0.936911, Train accuracy: 0.712889, val accuracy: 0.690000\n",
      "Loss: 0.851592, Train accuracy: 0.725889, val accuracy: 0.698000\n",
      "Loss: 0.795364, Train accuracy: 0.729667, val accuracy: 0.688000\n",
      "Loss: 0.865690, Train accuracy: 0.738333, val accuracy: 0.704000\n",
      "Loss: 0.888329, Train accuracy: 0.747111, val accuracy: 0.702000\n",
      "Loss: 0.821756, Train accuracy: 0.754778, val accuracy: 0.709000\n",
      "Loss: 0.972160, Train accuracy: 0.756000, val accuracy: 0.719000\n",
      "Loss: 1.017408, Train accuracy: 0.761778, val accuracy: 0.701000\n",
      "Loss: 1.060084, Train accuracy: 0.769889, val accuracy: 0.697000\n",
      "Loss: 0.786075, Train accuracy: 0.783889, val accuracy: 0.725000\n",
      "Loss: 0.538270, Train accuracy: 0.789000, val accuracy: 0.723000\n",
      "Loss: 0.759201, Train accuracy: 0.797000, val accuracy: 0.717000\n",
      "Loss: 0.608310, Train accuracy: 0.807000, val accuracy: 0.729000\n",
      "Loss: 0.964500, Train accuracy: 0.800333, val accuracy: 0.720000\n",
      "Loss: 0.301789, Train accuracy: 0.802889, val accuracy: 0.712000\n",
      "Loss: 0.689016, Train accuracy: 0.816111, val accuracy: 0.738000\n",
      "Loss: 0.669288, Train accuracy: 0.815556, val accuracy: 0.720000\n",
      "Loss: 0.597664, Train accuracy: 0.832222, val accuracy: 0.739000\n",
      "Loss: 0.652848, Train accuracy: 0.837778, val accuracy: 0.739000\n",
      "Loss: 0.549471, Train accuracy: 0.828778, val accuracy: 0.733000\n",
      "Loss: 0.600733, Train accuracy: 0.850222, val accuracy: 0.749000\n",
      "Loss: 0.910095, Train accuracy: 0.847444, val accuracy: 0.732000\n",
      "Loss: 0.616163, Train accuracy: 0.832333, val accuracy: 0.735000\n",
      "Loss: 0.742702, Train accuracy: 0.853667, val accuracy: 0.740000\n",
      "Loss: 0.770250, Train accuracy: 0.865333, val accuracy: 0.746000\n",
      "Loss: 0.520315, Train accuracy: 0.861333, val accuracy: 0.752000\n",
      "Loss: 0.715675, Train accuracy: 0.836000, val accuracy: 0.729000\n",
      "Loss: 2.189987, Train accuracy: 0.196667, val accuracy: 0.206000\n",
      "Loss: 2.211300, Train accuracy: 0.196667, val accuracy: 0.206000\n",
      "Loss: 2.206782, Train accuracy: 0.196667, val accuracy: 0.206000\n",
      "Loss: 2.144455, Train accuracy: 0.258556, val accuracy: 0.255000\n",
      "Loss: 2.050166, Train accuracy: 0.313778, val accuracy: 0.322000\n",
      "Loss: 1.578650, Train accuracy: 0.396889, val accuracy: 0.395000\n",
      "Loss: 1.644339, Train accuracy: 0.468444, val accuracy: 0.487000\n",
      "Loss: 1.386531, Train accuracy: 0.529333, val accuracy: 0.525000\n",
      "Loss: 1.538660, Train accuracy: 0.572444, val accuracy: 0.571000\n",
      "Loss: 1.345682, Train accuracy: 0.590000, val accuracy: 0.595000\n",
      "Loss: 1.023484, Train accuracy: 0.635000, val accuracy: 0.631000\n",
      "Loss: 0.980650, Train accuracy: 0.658889, val accuracy: 0.650000\n",
      "Loss: 0.927488, Train accuracy: 0.665444, val accuracy: 0.658000\n",
      "Loss: 1.366763, Train accuracy: 0.695222, val accuracy: 0.688000\n",
      "Loss: 1.071604, Train accuracy: 0.713000, val accuracy: 0.697000\n",
      "Loss: 1.024564, Train accuracy: 0.710000, val accuracy: 0.697000\n",
      "Loss: 1.114700, Train accuracy: 0.720889, val accuracy: 0.697000\n",
      "Loss: 1.064088, Train accuracy: 0.727333, val accuracy: 0.707000\n",
      "Loss: 1.210748, Train accuracy: 0.743333, val accuracy: 0.711000\n",
      "Loss: 0.838345, Train accuracy: 0.749111, val accuracy: 0.705000\n",
      "Loss: 1.105753, Train accuracy: 0.750000, val accuracy: 0.699000\n",
      "Loss: 1.052289, Train accuracy: 0.753000, val accuracy: 0.711000\n",
      "Loss: 1.001504, Train accuracy: 0.778667, val accuracy: 0.716000\n",
      "Loss: 0.905426, Train accuracy: 0.779889, val accuracy: 0.722000\n",
      "Loss: 0.918795, Train accuracy: 0.769222, val accuracy: 0.715000\n",
      "Loss: 1.050023, Train accuracy: 0.780333, val accuracy: 0.718000\n",
      "Loss: 1.270288, Train accuracy: 0.799889, val accuracy: 0.728000\n",
      "Loss: 0.892044, Train accuracy: 0.795778, val accuracy: 0.727000\n",
      "Loss: 0.869111, Train accuracy: 0.798000, val accuracy: 0.739000\n",
      "Loss: 0.957574, Train accuracy: 0.805889, val accuracy: 0.740000\n",
      "Loss: 0.848559, Train accuracy: 0.808444, val accuracy: 0.737000\n",
      "Loss: 0.708257, Train accuracy: 0.809778, val accuracy: 0.738000\n",
      "Loss: 0.757501, Train accuracy: 0.814778, val accuracy: 0.738000\n",
      "Loss: 1.124183, Train accuracy: 0.823444, val accuracy: 0.745000\n",
      "Loss: 0.737677, Train accuracy: 0.815444, val accuracy: 0.740000\n",
      "Loss: 0.966418, Train accuracy: 0.834889, val accuracy: 0.763000\n",
      "Loss: 0.945079, Train accuracy: 0.833222, val accuracy: 0.738000\n",
      "Loss: 0.839611, Train accuracy: 0.839889, val accuracy: 0.742000\n",
      "Loss: 0.798637, Train accuracy: 0.844333, val accuracy: 0.755000\n",
      "Loss: 0.873607, Train accuracy: 0.849444, val accuracy: 0.754000\n",
      "new leader with val_acc=0.754 and params: [hidden_layer_size=120 reg_strength=0.001 learning_rate=0.01]\n",
      "Loss: 2.157766, Train accuracy: 0.196667, val accuracy: 0.206000\n",
      "Loss: 2.149049, Train accuracy: 0.196667, val accuracy: 0.206000\n",
      "Loss: 2.087037, Train accuracy: 0.203000, val accuracy: 0.217000\n",
      "Loss: 1.992909, Train accuracy: 0.271333, val accuracy: 0.268000\n",
      "Loss: 1.641844, Train accuracy: 0.320667, val accuracy: 0.328000\n"
     ]
    },
    {
     "ename": "KeyboardInterrupt",
     "evalue": "",
     "output_type": "error",
     "traceback": [
      "\u001b[0;31m---------------------------------------------------------------------------\u001b[0m",
      "\u001b[0;31mKeyboardInterrupt\u001b[0m                         Traceback (most recent call last)",
      "\u001b[0;32m/tmp/ipykernel_405116/2936405113.py\u001b[0m in \u001b[0;36m<module>\u001b[0;34m\u001b[0m\n\u001b[1;32m     22\u001b[0m             \u001b[0mtrainer\u001b[0m \u001b[0;34m=\u001b[0m \u001b[0mTrainer\u001b[0m\u001b[0;34m(\u001b[0m\u001b[0mmodel\u001b[0m\u001b[0;34m,\u001b[0m \u001b[0mdataset\u001b[0m\u001b[0;34m,\u001b[0m \u001b[0mMomentumSGD\u001b[0m\u001b[0;34m(\u001b[0m\u001b[0;34m)\u001b[0m\u001b[0;34m,\u001b[0m \u001b[0mlearning_rate\u001b[0m\u001b[0;34m=\u001b[0m\u001b[0mlearning_rate\u001b[0m\u001b[0;34m,\u001b[0m \u001b[0mnum_epochs\u001b[0m\u001b[0;34m=\u001b[0m\u001b[0mnum_epochs\u001b[0m\u001b[0;34m,\u001b[0m \u001b[0mbatch_size\u001b[0m\u001b[0;34m=\u001b[0m\u001b[0mbatch_size\u001b[0m\u001b[0;34m,\u001b[0m \u001b[0mlearning_rate_decay\u001b[0m\u001b[0;34m=\u001b[0m\u001b[0mlearning_rate_decay\u001b[0m\u001b[0;34m)\u001b[0m\u001b[0;34m\u001b[0m\u001b[0;34m\u001b[0m\u001b[0m\n\u001b[1;32m     23\u001b[0m \u001b[0;34m\u001b[0m\u001b[0m\n\u001b[0;32m---> 24\u001b[0;31m             \u001b[0mloss_history\u001b[0m\u001b[0;34m,\u001b[0m \u001b[0mtrain_history\u001b[0m\u001b[0;34m,\u001b[0m \u001b[0mval_history\u001b[0m \u001b[0;34m=\u001b[0m \u001b[0mtrainer\u001b[0m\u001b[0;34m.\u001b[0m\u001b[0mfit\u001b[0m\u001b[0;34m(\u001b[0m\u001b[0;34m)\u001b[0m\u001b[0;34m\u001b[0m\u001b[0;34m\u001b[0m\u001b[0m\n\u001b[0m\u001b[1;32m     25\u001b[0m             \u001b[0;32mif\u001b[0m \u001b[0mbest_val_accuracy\u001b[0m \u001b[0;34m<\u001b[0m \u001b[0mval_history\u001b[0m\u001b[0;34m[\u001b[0m\u001b[0;34m-\u001b[0m\u001b[0;36m1\u001b[0m\u001b[0;34m]\u001b[0m\u001b[0;34m:\u001b[0m\u001b[0;34m\u001b[0m\u001b[0;34m\u001b[0m\u001b[0m\n\u001b[1;32m     26\u001b[0m                 \u001b[0mprint\u001b[0m\u001b[0;34m(\u001b[0m\u001b[0;34mf\"new leader with val_acc={val_history[-1]} and params: [{hidden_layer_size=} {reg_strength=} {learning_rate=}]\"\u001b[0m\u001b[0;34m)\u001b[0m\u001b[0;34m\u001b[0m\u001b[0;34m\u001b[0m\u001b[0m\n",
      "\u001b[0;32m~/Source/colab/dlcourse_ai/assignments/assignment2/trainer.py\u001b[0m in \u001b[0;36mfit\u001b[0;34m(self)\u001b[0m\n\u001b[1;32m    103\u001b[0m                 \u001b[0mbatch_X\u001b[0m \u001b[0;34m=\u001b[0m \u001b[0mself\u001b[0m\u001b[0;34m.\u001b[0m\u001b[0mdataset\u001b[0m\u001b[0;34m.\u001b[0m\u001b[0mtrain_X\u001b[0m\u001b[0;34m[\u001b[0m\u001b[0mbatch_indices\u001b[0m\u001b[0;34m,\u001b[0m \u001b[0;34m:\u001b[0m\u001b[0;34m]\u001b[0m\u001b[0;34m\u001b[0m\u001b[0;34m\u001b[0m\u001b[0m\n\u001b[1;32m    104\u001b[0m                 \u001b[0mbatch_y\u001b[0m \u001b[0;34m=\u001b[0m \u001b[0mself\u001b[0m\u001b[0;34m.\u001b[0m\u001b[0mdataset\u001b[0m\u001b[0;34m.\u001b[0m\u001b[0mtrain_y\u001b[0m\u001b[0;34m[\u001b[0m\u001b[0mbatch_indices\u001b[0m\u001b[0;34m]\u001b[0m\u001b[0;34m\u001b[0m\u001b[0;34m\u001b[0m\u001b[0m\n\u001b[0;32m--> 105\u001b[0;31m                 \u001b[0mloss\u001b[0m \u001b[0;34m=\u001b[0m \u001b[0mself\u001b[0m\u001b[0;34m.\u001b[0m\u001b[0mmodel\u001b[0m\u001b[0;34m.\u001b[0m\u001b[0mcompute_loss_and_gradients\u001b[0m\u001b[0;34m(\u001b[0m\u001b[0mbatch_X\u001b[0m\u001b[0;34m,\u001b[0m \u001b[0mbatch_y\u001b[0m\u001b[0;34m)\u001b[0m\u001b[0;34m\u001b[0m\u001b[0;34m\u001b[0m\u001b[0m\n\u001b[0m\u001b[1;32m    106\u001b[0m \u001b[0;34m\u001b[0m\u001b[0m\n\u001b[1;32m    107\u001b[0m                 \u001b[0;32mfor\u001b[0m \u001b[0mparam_name\u001b[0m\u001b[0;34m,\u001b[0m \u001b[0mparam\u001b[0m \u001b[0;32min\u001b[0m \u001b[0mself\u001b[0m\u001b[0;34m.\u001b[0m\u001b[0mmodel\u001b[0m\u001b[0;34m.\u001b[0m\u001b[0mparams\u001b[0m\u001b[0;34m(\u001b[0m\u001b[0;34m)\u001b[0m\u001b[0;34m.\u001b[0m\u001b[0mitems\u001b[0m\u001b[0;34m(\u001b[0m\u001b[0;34m)\u001b[0m\u001b[0;34m:\u001b[0m\u001b[0;34m\u001b[0m\u001b[0;34m\u001b[0m\u001b[0m\n",
      "\u001b[0;32m~/Source/colab/dlcourse_ai/assignments/assignment2/model.py\u001b[0m in \u001b[0;36mcompute_loss_and_gradients\u001b[0;34m(self, X, y)\u001b[0m\n\u001b[1;32m     53\u001b[0m         \u001b[0;31m# Hint: self.params() is useful again!\u001b[0m\u001b[0;34m\u001b[0m\u001b[0;34m\u001b[0m\u001b[0m\n\u001b[1;32m     54\u001b[0m         \u001b[0;32mfor\u001b[0m \u001b[0mparam\u001b[0m \u001b[0;32min\u001b[0m \u001b[0mself\u001b[0m\u001b[0;34m.\u001b[0m\u001b[0mparams\u001b[0m\u001b[0;34m(\u001b[0m\u001b[0;34m)\u001b[0m\u001b[0;34m.\u001b[0m\u001b[0mvalues\u001b[0m\u001b[0;34m(\u001b[0m\u001b[0;34m)\u001b[0m\u001b[0;34m:\u001b[0m\u001b[0;34m\u001b[0m\u001b[0;34m\u001b[0m\u001b[0m\n\u001b[0;32m---> 55\u001b[0;31m             \u001b[0mloss_l2\u001b[0m\u001b[0;34m,\u001b[0m \u001b[0mgrad_l2\u001b[0m \u001b[0;34m=\u001b[0m \u001b[0ml2_regularization\u001b[0m\u001b[0;34m(\u001b[0m\u001b[0mparam\u001b[0m\u001b[0;34m.\u001b[0m\u001b[0mvalue\u001b[0m\u001b[0;34m,\u001b[0m \u001b[0mself\u001b[0m\u001b[0;34m.\u001b[0m\u001b[0mreg\u001b[0m\u001b[0;34m)\u001b[0m\u001b[0;34m\u001b[0m\u001b[0;34m\u001b[0m\u001b[0m\n\u001b[0m\u001b[1;32m     56\u001b[0m             \u001b[0mloss\u001b[0m \u001b[0;34m+=\u001b[0m \u001b[0mloss_l2\u001b[0m\u001b[0;34m\u001b[0m\u001b[0;34m\u001b[0m\u001b[0m\n\u001b[1;32m     57\u001b[0m             \u001b[0mparam\u001b[0m\u001b[0;34m.\u001b[0m\u001b[0mgrad\u001b[0m \u001b[0;34m+=\u001b[0m \u001b[0mgrad_l2\u001b[0m\u001b[0;34m\u001b[0m\u001b[0;34m\u001b[0m\u001b[0m\n",
      "\u001b[0;32m~/Source/colab/dlcourse_ai/assignments/assignment2/layers.py\u001b[0m in \u001b[0;36ml2_regularization\u001b[0;34m(W, reg_strength)\u001b[0m\n\u001b[1;32m     16\u001b[0m       \u001b[0mgradient\u001b[0m\u001b[0;34m,\u001b[0m \u001b[0mnp\u001b[0m\u001b[0;34m.\u001b[0m\u001b[0marray\u001b[0m \u001b[0msame\u001b[0m \u001b[0mshape\u001b[0m \u001b[0;32mas\u001b[0m \u001b[0mW\u001b[0m \u001b[0;34m-\u001b[0m \u001b[0mgradient\u001b[0m \u001b[0mof\u001b[0m \u001b[0mweight\u001b[0m \u001b[0mby\u001b[0m \u001b[0ml2\u001b[0m \u001b[0mloss\u001b[0m\u001b[0;34m\u001b[0m\u001b[0;34m\u001b[0m\u001b[0m\n\u001b[1;32m     17\u001b[0m     \"\"\"\n\u001b[0;32m---> 18\u001b[0;31m     \u001b[0mloss\u001b[0m \u001b[0;34m=\u001b[0m \u001b[0mnp\u001b[0m\u001b[0;34m.\u001b[0m\u001b[0msum\u001b[0m\u001b[0;34m(\u001b[0m\u001b[0mnp\u001b[0m\u001b[0;34m.\u001b[0m\u001b[0mpower\u001b[0m\u001b[0;34m(\u001b[0m\u001b[0mW\u001b[0m\u001b[0;34m,\u001b[0m \u001b[0;36m2\u001b[0m\u001b[0;34m)\u001b[0m\u001b[0;34m)\u001b[0m \u001b[0;34m*\u001b[0m \u001b[0mreg_strength\u001b[0m\u001b[0;34m\u001b[0m\u001b[0;34m\u001b[0m\u001b[0m\n\u001b[0m\u001b[1;32m     19\u001b[0m     \u001b[0mgrad\u001b[0m \u001b[0;34m=\u001b[0m \u001b[0;36m2\u001b[0m \u001b[0;34m*\u001b[0m \u001b[0mW\u001b[0m \u001b[0;34m*\u001b[0m \u001b[0mreg_strength\u001b[0m\u001b[0;34m\u001b[0m\u001b[0;34m\u001b[0m\u001b[0m\n\u001b[1;32m     20\u001b[0m \u001b[0;34m\u001b[0m\u001b[0m\n",
      "\u001b[0;31mKeyboardInterrupt\u001b[0m: "
     ]
    }
   ],
   "source": [
    "# Let's train the best one-hidden-layer network we can\n",
    "\n",
    "learning_rates = [1e-2]\n",
    "reg_strengths = [1e-3, 1e-4]\n",
    "learning_rate_decay = 0.995\n",
    "hidden_layer_sizes = [100, 120, 150]\n",
    "num_epochs = 40\n",
    "batch_size = 64\n",
    "\n",
    "best_classifier = None\n",
    "best_val_accuracy = 0\n",
    "\n",
    "loss_history = []\n",
    "train_history = []\n",
    "val_history = []\n",
    "\n",
    "for hidden_layer_size in hidden_layer_sizes:\n",
    "    for reg_strength in reg_strengths:\n",
    "        for learning_rate in learning_rates:\n",
    "            model = TwoLayerNet(n_input = train_X.shape[1], n_output = 10, hidden_layer_size = hidden_layer_size, reg = reg_strength)\n",
    "            dataset = Dataset(train_X, train_y, val_X, val_y)\n",
    "            trainer = Trainer(model, dataset, MomentumSGD(), learning_rate=learning_rate, num_epochs=num_epochs, batch_size=batch_size, learning_rate_decay=learning_rate_decay)\n",
    "\n",
    "            loss_history, train_history, val_history = trainer.fit()\n",
    "            if best_val_accuracy < val_history[-1]:\n",
    "                print(f\"new leader with val_acc={val_history[-1]} and params: [{hidden_layer_size=} {reg_strength=} {learning_rate=}]\")\n",
    "                best_val_accuracy = val_history[-1]\n",
    "                best_classifier = model\n",
    "\n",
    "\n",
    "print('best validation accuracy achieved: %f' % best_val_accuracy)"
   ]
  },
  {
   "cell_type": "code",
   "execution_count": 34,
   "metadata": {},
   "outputs": [
    {
     "data": {
      "text/plain": [
       "[<matplotlib.lines.Line2D at 0x7fd07c892e50>]"
      ]
     },
     "execution_count": 34,
     "metadata": {},
     "output_type": "execute_result"
    },
    {
     "data": {
      "image/png": "[encoded data removed]",
      "text/plain": [
       "<Figure size 1080x504 with 2 Axes>"
      ]
     },
     "metadata": {
      "needs_background": "light"
     },
     "output_type": "display_data"
    }
   ],
   "source": [
    "plt.figure(figsize=(15, 7))\n",
    "plt.subplot(211)\n",
    "plt.title(\"Loss\")\n",
    "plt.plot(loss_history)\n",
    "plt.subplot(212)\n",
    "plt.title(\"Train/validation accuracy\")\n",
    "plt.plot(train_history)\n",
    "plt.plot(val_history)"
   ]
  },
  {
   "cell_type": "markdown",
   "metadata": {},
   "source": [
    "# Как обычно, посмотрим, как наша лучшая модель работает на тестовых данных"
   ]
  },
  {
   "cell_type": "code",
   "execution_count": 35,
   "metadata": {},
   "outputs": [
    {
     "name": "stdout",
     "output_type": "stream",
     "text": [
      "Neural net test set accuracy: 0.723000\n"
     ]
    }
   ],
   "source": [
    "test_pred = best_classifier.predict(test_X)\n",
    "test_accuracy = multiclass_accuracy(test_pred, test_y)\n",
    "print('Neural net test set accuracy: %f' % (test_accuracy, ))"
   ]
  },
  {
   "cell_type": "markdown",
   "metadata": {
    "pycharm": {
     "name": "#%% md\n"
    }
   },
   "source": [
    "new leader with val_acc=0.759 and params: [hidden_layer_size=150 reg_strength=0.001 learning_rate=0.01]"
   ]
  }
 ],
 "metadata": {
  "kernelspec": {
   "display_name": "my-virtualenv-name",
   "language": "python",
   "name": "my-virtualenv-name"
  },
  "language_info": {
   "codemirror_mode": {
    "name": "ipython",
    "version": 3
   },
   "file_extension": ".py",
   "mimetype": "text/x-python",
   "name": "python",
   "nbconvert_exporter": "python",
   "pygments_lexer": "ipython3",
   "version": "3.9.9"
  }
 },
 "nbformat": 4,
 "nbformat_minor": 4
}
